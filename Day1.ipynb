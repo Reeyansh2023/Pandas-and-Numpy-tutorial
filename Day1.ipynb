{
 "cells": [
  {
   "cell_type": "code",
   "execution_count": 2,
   "id": "531845d7-5d88-4f06-b008-9770753c2072",
   "metadata": {},
   "outputs": [],
   "source": [
    "import numpy as np"
   ]
  },
  {
   "cell_type": "markdown",
   "id": "d9e0e169-4839-4ccc-9e87-f47baea0fc6f",
   "metadata": {},
   "source": [
    "# Use of numpy AI and Deeplearnng"
   ]
  },
  {
   "cell_type": "code",
   "execution_count": 3,
   "id": "10b24642-fe67-497a-850f-592f0d72428f",
   "metadata": {},
   "outputs": [
    {
     "name": "stdout",
     "output_type": "stream",
     "text": [
      "[1 2 3]\n"
     ]
    }
   ],
   "source": [
    "a=np.array([1,2,3])\n",
    "print(a)"
   ]
  },
  {
   "cell_type": "code",
   "execution_count": 4,
   "id": "087018b4-847e-479e-b4aa-93142b40610d",
   "metadata": {},
   "outputs": [
    {
     "name": "stdout",
     "output_type": "stream",
     "text": [
      "<class 'numpy.ndarray'>\n"
     ]
    }
   ],
   "source": [
    "print(type(a))"
   ]
  },
  {
   "cell_type": "markdown",
   "id": "9d53fcfb-ebb7-4e81-aa7c-5f1ada1ca4f0",
   "metadata": {},
   "source": [
    "# upcasting\"-string,float int\n",
    "# mix data types we priority first string change"
   ]
  },
  {
   "cell_type": "code",
   "execution_count": 5,
   "id": "44b5ede1-2be2-4752-b6cd-156337ea9ad1",
   "metadata": {},
   "outputs": [
    {
     "name": "stdout",
     "output_type": "stream",
     "text": [
      "[1.  2.5 3. ]\n"
     ]
    }
   ],
   "source": [
    "b=np.array([1,2.5,3])\n",
    "print(b)"
   ]
  },
  {
   "cell_type": "code",
   "execution_count": 6,
   "id": "c43513e1-9556-47f7-996d-b8df8445f851",
   "metadata": {},
   "outputs": [
    {
     "name": "stdout",
     "output_type": "stream",
     "text": [
      "['1' '2' '3']\n"
     ]
    }
   ],
   "source": [
    "c=np.array([1,'2',3])\n",
    "print(c)"
   ]
  },
  {
   "cell_type": "code",
   "execution_count": 7,
   "id": "9c5d56e0-546c-49da-8d08-adc812c344d9",
   "metadata": {},
   "outputs": [
    {
     "name": "stdout",
     "output_type": "stream",
     "text": [
      "[[1 2]\n",
      " [3 4]]\n"
     ]
    }
   ],
   "source": [
    "# more than one diamension\n",
    "a_1=np.array([[1,2],[3,4]])\n",
    "print(a_1)"
   ]
  },
  {
   "cell_type": "code",
   "execution_count": 8,
   "id": "0382fba2-82b8-4a12-a793-bd0a2e8f34fc",
   "metadata": {},
   "outputs": [
    {
     "name": "stdout",
     "output_type": "stream",
     "text": [
      "[[1 2 3 4 5]]\n"
     ]
    }
   ],
   "source": [
    "# minimum dimensions\n",
    "a_2=np.array([1,2,3,4,5],ndmin=2)\n",
    "print(a_2)"
   ]
  },
  {
   "cell_type": "code",
   "execution_count": 10,
   "id": "5f9338b6-0b29-41e4-bc65-effcfce07503",
   "metadata": {},
   "outputs": [
    {
     "data": {
      "text/plain": [
       "(1, 5)"
      ]
     },
     "execution_count": 10,
     "metadata": {},
     "output_type": "execute_result"
    }
   ],
   "source": [
    "a_2.shape"
   ]
  },
  {
   "cell_type": "code",
   "execution_count": 13,
   "id": "8b88a75c-8698-4dc8-9418-4d823f0baecd",
   "metadata": {},
   "outputs": [
    {
     "name": "stdout",
     "output_type": "stream",
     "text": [
      "[1.+0.j 2.+0.j 3.+0.j]\n"
     ]
    }
   ],
   "source": [
    "# dtype parameter\n",
    "b_1=np.array([1,2,3],dtype=complex)\n",
    "print(b_1)"
   ]
  },
  {
   "cell_type": "code",
   "execution_count": 14,
   "id": "d23871a9-26be-4636-a5cd-f0a9ddcd18c6",
   "metadata": {},
   "outputs": [
    {
     "name": "stdout",
     "output_type": "stream",
     "text": [
      "[[1 2 3]\n",
      " [4 5 6]]\n",
      "(2, 3)\n"
     ]
    }
   ],
   "source": [
    "# ndarray.shape\n",
    "a=np.array([[1,2,3],[4,5,6]])\n",
    "print(a)\n",
    "print(a.shape)"
   ]
  },
  {
   "cell_type": "code",
   "execution_count": 21,
   "id": "ede8add7-c7cf-45da-8d68-958d1671089f",
   "metadata": {},
   "outputs": [
    {
     "name": "stdout",
     "output_type": "stream",
     "text": [
      "[[1 2]\n",
      " [3 4]\n",
      " [5 6]]\n"
     ]
    }
   ],
   "source": [
    "# this resize the nd array\n",
    "a=np.array([[1,2,3],[4,5,6]])\n",
    "a.shape=(3,2)\n",
    "print(a)"
   ]
  },
  {
   "cell_type": "markdown",
   "id": "68e5759e-8ff1-419d-b63d-6dcd4b304c68",
   "metadata": {},
   "source": [
    "# numpy also provides a reshape function to resize an array"
   ]
  },
  {
   "cell_type": "code",
   "execution_count": 22,
   "id": "b4a6d576-5697-4790-83b4-375ece21c83b",
   "metadata": {},
   "outputs": [
    {
     "name": "stdout",
     "output_type": "stream",
     "text": [
      "[[1 2 3]\n",
      " [4 5 6]]\n",
      "--------------------------------------------------\n",
      "[[1 2]\n",
      " [3 4]\n",
      " [5 6]]\n"
     ]
    }
   ],
   "source": [
    "d=np.array([[1,2,3],[4,5,6]])\n",
    "print(d)\n",
    "print(\"--------------------------------------------------\")\n",
    "e=d.reshape(3,2)\n",
    "print(e)"
   ]
  },
  {
   "cell_type": "markdown",
   "id": "59bc1a13-b2e4-4287-bd5f-ba8a16a7ceb2",
   "metadata": {},
   "source": [
    "# Returns a new array of specified size and type ,filled with zeros\n"
   ]
  },
  {
   "cell_type": "code",
   "execution_count": 25,
   "id": "34e52013-0a08-419b-967b-1eb165b22354",
   "metadata": {},
   "outputs": [
    {
     "name": "stdout",
     "output_type": "stream",
     "text": [
      "[0. 0. 0. 0. 0.]\n"
     ]
    }
   ],
   "source": [
    "x=np.zeros((5))\n",
    "print(x)"
   ]
  },
  {
   "cell_type": "code",
   "execution_count": 26,
   "id": "3e86f661-fefc-4835-830c-ea63d9685dda",
   "metadata": {},
   "outputs": [
    {
     "name": "stdout",
     "output_type": "stream",
     "text": [
      "[0 0 0 0 0]\n"
     ]
    }
   ],
   "source": [
    "x=np.zeros((5),dtype=int)\n",
    "print(x)"
   ]
  },
  {
   "cell_type": "code",
   "execution_count": 27,
   "id": "9352aac7-b51f-47d7-b751-1d3c22bf6af7",
   "metadata": {},
   "outputs": [
    {
     "name": "stdout",
     "output_type": "stream",
     "text": [
      "[[0 0]\n",
      " [0 0]\n",
      " [0 0]\n",
      " [0 0]\n",
      " [0 0]]\n"
     ]
    }
   ],
   "source": [
    "x=np.zeros((5,2),dtype=int)\n",
    "print(x)"
   ]
  },
  {
   "cell_type": "code",
   "execution_count": 28,
   "id": "de44d53b-6277-417c-8876-2ef78d7d5c4e",
   "metadata": {},
   "outputs": [
    {
     "name": "stdout",
     "output_type": "stream",
     "text": [
      "[1. 1. 1. 1. 1.]\n"
     ]
    }
   ],
   "source": [
    "y=np.ones((5))\n",
    "print(y)"
   ]
  },
  {
   "cell_type": "code",
   "execution_count": 30,
   "id": "fe0b0a30-01bc-4715-9dbb-a2d033acad10",
   "metadata": {},
   "outputs": [
    {
     "name": "stdout",
     "output_type": "stream",
     "text": [
      "[1 1 1 1 1]\n"
     ]
    }
   ],
   "source": [
    "y=np.ones((5),dtype=int)\n",
    "print(y)"
   ]
  },
  {
   "cell_type": "code",
   "execution_count": 31,
   "id": "e5672c56-4979-4b50-9bc1-86bd3e2cbf8d",
   "metadata": {},
   "outputs": [
    {
     "name": "stdout",
     "output_type": "stream",
     "text": [
      "[[1 1]\n",
      " [1 1]\n",
      " [1 1]\n",
      " [1 1]\n",
      " [1 1]]\n"
     ]
    }
   ],
   "source": [
    "y=np.ones((5,2),dtype=int)\n",
    "print(y)"
   ]
  },
  {
   "cell_type": "code",
   "execution_count": 32,
   "id": "652839c4-3535-483a-884d-610223e84bc9",
   "metadata": {},
   "outputs": [
    {
     "name": "stdout",
     "output_type": "stream",
     "text": [
      "[[1. 0. 0. 0. 0.]\n",
      " [0. 1. 0. 0. 0.]\n",
      " [0. 0. 1. 0. 0.]\n",
      " [0. 0. 0. 1. 0.]\n",
      " [0. 0. 0. 0. 1.]]\n"
     ]
    }
   ],
   "source": [
    "c=np.eye((5))\n",
    "print(c)"
   ]
  },
  {
   "cell_type": "markdown",
   "id": "cbef2b98-668e-4120-942f-2e85db3875eb",
   "metadata": {},
   "source": [
    "# numpy.empty means dignonal"
   ]
  },
  {
   "cell_type": "code",
   "execution_count": 38,
   "id": "d8566ca1-de1c-4321-96da-e9e2ca6890d0",
   "metadata": {},
   "outputs": [
    {
     "name": "stdout",
     "output_type": "stream",
     "text": [
      "[[         0 1072693248]\n",
      " [         0 1072693248]\n",
      " [         0 1072693248]\n",
      " [         0 1072693248]\n",
      " [         0 1072693248]]\n"
     ]
    }
   ],
   "source": [
    "y=np.empty((5,2),dtype=int)\n",
    "print(y)"
   ]
  },
  {
   "cell_type": "markdown",
   "id": "8eb525fa-aa3b-48dd-92e1-4aae633fc9b2",
   "metadata": {},
   "source": [
    "# numpy.asarray"
   ]
  },
  {
   "cell_type": "code",
   "execution_count": 39,
   "id": "536db440-d653-48c7-af3e-ee66aae2b803",
   "metadata": {},
   "outputs": [
    {
     "name": "stdout",
     "output_type": "stream",
     "text": [
      "[1, 2, 3]\n",
      "--------------------------------------\n",
      "<class 'list'>\n",
      "---------------------------------------\n",
      "[1 2 3]\n",
      "--------------------------------\n",
      "<class 'numpy.ndarray'>\n"
     ]
    }
   ],
   "source": [
    "x=[1,2,3]\n",
    "print(x)\n",
    "print(\"--------------------------------------\")\n",
    "print(type(x))\n",
    "print(\"---------------------------------------\")\n",
    "a=np.asarray(x)\n",
    "print(a)\n",
    "print(\"--------------------------------\")\n",
    "print(type(a))"
   ]
  },
  {
   "cell_type": "markdown",
   "id": "a06006d1-a074-4a6c-86a6-8424d975e53b",
   "metadata": {},
   "source": [
    "# dtype is provided"
   ]
  },
  {
   "cell_type": "code",
   "execution_count": 40,
   "id": "d16f4604-6e36-445d-8c03-03a2f76bb683",
   "metadata": {},
   "outputs": [
    {
     "name": "stdout",
     "output_type": "stream",
     "text": [
      "[1, 2, 3]\n",
      "--------------------------------------\n",
      "<class 'list'>\n",
      "---------------------------------------\n",
      "[1. 2. 3.]\n",
      "--------------------------------\n",
      "<class 'numpy.ndarray'>\n"
     ]
    }
   ],
   "source": [
    "y=[1,2,3]\n",
    "print(y)\n",
    "print(\"--------------------------------------\")\n",
    "print(type(y))\n",
    "print(\"---------------------------------------\")\n",
    "a=np.asarray(x,dtype=float)\n",
    "print(a)\n",
    "print(\"--------------------------------\")\n",
    "print(type(a))"
   ]
  },
  {
   "cell_type": "code",
   "execution_count": 41,
   "id": "0f0fc964-ae52-4b85-a566-e54d2dda3da6",
   "metadata": {},
   "outputs": [
    {
     "name": "stdout",
     "output_type": "stream",
     "text": [
      "[1 2 3]\n"
     ]
    }
   ],
   "source": [
    "x=(1,2,3)\n",
    "a=np.asarray(x)\n",
    "print(a)"
   ]
  },
  {
   "cell_type": "markdown",
   "id": "8a84d8d6-612d-444e-8f12-b51579c37ebe",
   "metadata": {},
   "source": [
    "# ndarray from list of tuples"
   ]
  },
  {
   "cell_type": "code",
   "execution_count": 42,
   "id": "2a417fc4-6c36-4c94-b885-ca746a7b4e09",
   "metadata": {},
   "outputs": [
    {
     "ename": "ValueError",
     "evalue": "setting an array element with a sequence. The requested array has an inhomogeneous shape after 1 dimensions. The detected shape was (2,) + inhomogeneous part.",
     "output_type": "error",
     "traceback": [
      "\u001b[1;31m---------------------------------------------------------------------------\u001b[0m",
      "\u001b[1;31mValueError\u001b[0m                                Traceback (most recent call last)",
      "Cell \u001b[1;32mIn[42], line 2\u001b[0m\n\u001b[0;32m      1\u001b[0m x\u001b[38;5;241m=\u001b[39m[(\u001b[38;5;241m1\u001b[39m,\u001b[38;5;241m2\u001b[39m,\u001b[38;5;241m3\u001b[39m),(\u001b[38;5;241m4\u001b[39m,\u001b[38;5;241m5\u001b[39m)]\n\u001b[1;32m----> 2\u001b[0m a\u001b[38;5;241m=\u001b[39mnp\u001b[38;5;241m.\u001b[39masarray(x)\n\u001b[0;32m      3\u001b[0m \u001b[38;5;28mprint\u001b[39m(a)\n",
      "\u001b[1;31mValueError\u001b[0m: setting an array element with a sequence. The requested array has an inhomogeneous shape after 1 dimensions. The detected shape was (2,) + inhomogeneous part."
     ]
    }
   ],
   "source": [
    "x=[(1,2,3),(4,5)]\n",
    "a=np.asarray(x)\n",
    "print(a)"
   ]
  },
  {
   "cell_type": "markdown",
   "id": "526fc9f8-0591-43d5-8c6b-8f8d22addb47",
   "metadata": {},
   "source": [
    "# numpy.arange"
   ]
  },
  {
   "cell_type": "code",
   "execution_count": 43,
   "id": "158c5977-781f-4e83-b8ef-49c9573b9aef",
   "metadata": {},
   "outputs": [
    {
     "name": "stdout",
     "output_type": "stream",
     "text": [
      "[ 0  1  2  3  4  5  6  7  8  9 10 11 12 13 14 15 16 17 18 19 20 21 22 23]\n"
     ]
    }
   ],
   "source": [
    "a=np.arange(24)\n",
    "print(a)"
   ]
  },
  {
   "cell_type": "markdown",
   "id": "6e135f4f-3436-4caa-9991-b421bc572501",
   "metadata": {},
   "source": [
    "# check diamnsional"
   ]
  },
  {
   "cell_type": "code",
   "execution_count": 44,
   "id": "feadbbdb-85a2-4af8-8088-219228629344",
   "metadata": {},
   "outputs": [
    {
     "name": "stdout",
     "output_type": "stream",
     "text": [
      "1\n"
     ]
    }
   ],
   "source": [
    "a=np.arange(24)\n",
    "print(a.ndim)"
   ]
  },
  {
   "cell_type": "code",
   "execution_count": 45,
   "id": "13ff7afc-e8d7-4750-8f8d-dee291ae9a92",
   "metadata": {},
   "outputs": [
    {
     "name": "stdout",
     "output_type": "stream",
     "text": [
      "[0. 1. 2. 3. 4.]\n"
     ]
    }
   ],
   "source": [
    "x=np.arange(5,dtype=float)\n",
    "print(x)"
   ]
  },
  {
   "cell_type": "markdown",
   "id": "659550a3-041b-4fb3-84fb-0f68369ebb1c",
   "metadata": {},
   "source": [
    "# start and stop parameters set"
   ]
  },
  {
   "cell_type": "code",
   "execution_count": 46,
   "id": "007a4f63-9313-414d-a82b-1513013f83e8",
   "metadata": {},
   "outputs": [
    {
     "name": "stdout",
     "output_type": "stream",
     "text": [
      "[[10 12 14]\n",
      " [16 18 20]]\n"
     ]
    }
   ],
   "source": [
    "x=(np.arange(10,22,2)).reshape(2,3)\n",
    "print(x)"
   ]
  },
  {
   "cell_type": "markdown",
   "id": "28addc3a-1bd4-494c-8111-8ff6c65a1012",
   "metadata": {},
   "source": [
    "# numpy.linspace"
   ]
  },
  {
   "cell_type": "code",
   "execution_count": 47,
   "id": "a372f68d-27df-4bee-8644-a52aa8a5e99d",
   "metadata": {},
   "outputs": [
    {
     "name": "stdout",
     "output_type": "stream",
     "text": [
      "[10.  12.5 15.  17.5 20. ]\n"
     ]
    }
   ],
   "source": [
    "x=np.linspace(10,20,5)\n",
    "print(x)"
   ]
  },
  {
   "cell_type": "code",
   "execution_count": 49,
   "id": "dce55232-2b74-4723-bdb5-1e959e1f0126",
   "metadata": {},
   "outputs": [
    {
     "name": "stdout",
     "output_type": "stream",
     "text": [
      "[10. 12. 14. 16. 18.]\n"
     ]
    }
   ],
   "source": [
    "y=np.linspace(10,20,5,endpoint=False)\n",
    "print(y)"
   ]
  },
  {
   "cell_type": "markdown",
   "id": "03e2d864-e04f-4226-a52b-a3478ebf032e",
   "metadata": {},
   "source": [
    "# find retstep value"
   ]
  },
  {
   "cell_type": "code",
   "execution_count": 51,
   "id": "a2eaa7fe-41f0-4f8a-ae63-6e300a73ee28",
   "metadata": {},
   "outputs": [
    {
     "name": "stdout",
     "output_type": "stream",
     "text": [
      "(array([100.        , 104.04040404, 108.08080808, 112.12121212,\n",
      "       116.16161616, 120.2020202 , 124.24242424, 128.28282828,\n",
      "       132.32323232, 136.36363636, 140.4040404 , 144.44444444,\n",
      "       148.48484848, 152.52525253, 156.56565657, 160.60606061,\n",
      "       164.64646465, 168.68686869, 172.72727273, 176.76767677,\n",
      "       180.80808081, 184.84848485, 188.88888889, 192.92929293,\n",
      "       196.96969697, 201.01010101, 205.05050505, 209.09090909,\n",
      "       213.13131313, 217.17171717, 221.21212121, 225.25252525,\n",
      "       229.29292929, 233.33333333, 237.37373737, 241.41414141,\n",
      "       245.45454545, 249.49494949, 253.53535354, 257.57575758,\n",
      "       261.61616162, 265.65656566, 269.6969697 , 273.73737374,\n",
      "       277.77777778, 281.81818182, 285.85858586, 289.8989899 ,\n",
      "       293.93939394, 297.97979798, 302.02020202, 306.06060606,\n",
      "       310.1010101 , 314.14141414, 318.18181818, 322.22222222,\n",
      "       326.26262626, 330.3030303 , 334.34343434, 338.38383838,\n",
      "       342.42424242, 346.46464646, 350.50505051, 354.54545455,\n",
      "       358.58585859, 362.62626263, 366.66666667, 370.70707071,\n",
      "       374.74747475, 378.78787879, 382.82828283, 386.86868687,\n",
      "       390.90909091, 394.94949495, 398.98989899, 403.03030303,\n",
      "       407.07070707, 411.11111111, 415.15151515, 419.19191919,\n",
      "       423.23232323, 427.27272727, 431.31313131, 435.35353535,\n",
      "       439.39393939, 443.43434343, 447.47474747, 451.51515152,\n",
      "       455.55555556, 459.5959596 , 463.63636364, 467.67676768,\n",
      "       471.71717172, 475.75757576, 479.7979798 , 483.83838384,\n",
      "       487.87878788, 491.91919192, 495.95959596, 500.        ]), 4.040404040404041)\n"
     ]
    }
   ],
   "source": [
    "x=np.linspace(100,500,100,retstep=True)\n",
    "print(x)"
   ]
  }
 ],
 "metadata": {
  "kernelspec": {
   "display_name": "Python 3 (ipykernel)",
   "language": "python",
   "name": "python3"
  },
  "language_info": {
   "codemirror_mode": {
    "name": "ipython",
    "version": 3
   },
   "file_extension": ".py",
   "mimetype": "text/x-python",
   "name": "python",
   "nbconvert_exporter": "python",
   "pygments_lexer": "ipython3",
   "version": "3.12.4"
  }
 },
 "nbformat": 4,
 "nbformat_minor": 5
}
