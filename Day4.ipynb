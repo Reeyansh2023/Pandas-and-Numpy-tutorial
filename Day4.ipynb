{
 "cells": [
  {
   "cell_type": "code",
   "execution_count": 1,
   "id": "8f9c8240-336a-442a-956c-d69c584a0d97",
   "metadata": {},
   "outputs": [],
   "source": [
    "import numpy as np"
   ]
  },
  {
   "cell_type": "code",
   "execution_count": 2,
   "id": "24da88e7-7bc0-4b9a-ab8e-724299dca0e1",
   "metadata": {},
   "outputs": [],
   "source": [
    "x=np.arange(36).reshape(6,6)"
   ]
  },
  {
   "cell_type": "code",
   "execution_count": 3,
   "id": "1d55e271-5328-4252-9c45-42d9ef41d67d",
   "metadata": {},
   "outputs": [
    {
     "data": {
      "text/plain": [
       "array([[ 0,  1,  2,  3,  4,  5],\n",
       "       [ 6,  7,  8,  9, 10, 11],\n",
       "       [12, 13, 14, 15, 16, 17],\n",
       "       [18, 19, 20, 21, 22, 23],\n",
       "       [24, 25, 26, 27, 28, 29],\n",
       "       [30, 31, 32, 33, 34, 35]])"
      ]
     },
     "execution_count": 3,
     "metadata": {},
     "output_type": "execute_result"
    }
   ],
   "source": [
    "x"
   ]
  },
  {
   "cell_type": "code",
   "execution_count": 4,
   "id": "ca10b3ce-6d74-4a18-a170-6c30547fc6aa",
   "metadata": {},
   "outputs": [],
   "source": [
    "a=np.diag(x)"
   ]
  },
  {
   "cell_type": "code",
   "execution_count": 5,
   "id": "63af2546-f3b3-4bd7-919f-0e82cab3a020",
   "metadata": {},
   "outputs": [
    {
     "data": {
      "text/plain": [
       "array([ 0,  7, 14, 21, 28, 35])"
      ]
     },
     "execution_count": 5,
     "metadata": {},
     "output_type": "execute_result"
    }
   ],
   "source": [
    "a"
   ]
  },
  {
   "cell_type": "code",
   "execution_count": 6,
   "id": "5bd0e40c-b840-4205-8cd1-7ee043b8982a",
   "metadata": {},
   "outputs": [],
   "source": [
    "x=np.array([12,23,34,45,5,56])"
   ]
  },
  {
   "cell_type": "code",
   "execution_count": 7,
   "id": "f9d62f3b-178c-48e3-990c-4abba274d381",
   "metadata": {},
   "outputs": [
    {
     "data": {
      "text/plain": [
       "array([[12,  0,  0,  0,  0,  0],\n",
       "       [ 0, 23,  0,  0,  0,  0],\n",
       "       [ 0,  0, 34,  0,  0,  0],\n",
       "       [ 0,  0,  0, 45,  0,  0],\n",
       "       [ 0,  0,  0,  0,  5,  0],\n",
       "       [ 0,  0,  0,  0,  0, 56]])"
      ]
     },
     "execution_count": 7,
     "metadata": {},
     "output_type": "execute_result"
    }
   ],
   "source": [
    "np.diag(x)"
   ]
  },
  {
   "cell_type": "markdown",
   "id": "dee26d43-c6da-42e5-bd4f-c45c26de4371",
   "metadata": {},
   "source": [
    "# seed(25)= this method for fix"
   ]
  },
  {
   "cell_type": "code",
   "execution_count": 9,
   "id": "9efd308c-6043-47b2-ab1d-7653bf44f382",
   "metadata": {},
   "outputs": [],
   "source": [
    "from numpy.random import randint as ri"
   ]
  },
  {
   "cell_type": "code",
   "execution_count": 10,
   "id": "58663091-0104-4dc2-851f-8810a324c2b1",
   "metadata": {},
   "outputs": [
    {
     "data": {
      "text/plain": [
       "array([[ 5, 63, 91, 16, 62, 24],\n",
       "       [45, 51,  9, 29,  5, 90],\n",
       "       [32, 70,  2, 40,  4, 89],\n",
       "       [56,  4, 85, 46,  4,  2],\n",
       "       [23, 32, 49, 48, 74, 17]])"
      ]
     },
     "execution_count": 10,
     "metadata": {},
     "output_type": "execute_result"
    }
   ],
   "source": [
    "np.random.seed(25)\n",
    "ri(1,100,(5,6))"
   ]
  },
  {
   "cell_type": "code",
   "execution_count": 14,
   "id": "1460f26f-29a2-47a3-91e7-d21a6b6222b6",
   "metadata": {},
   "outputs": [
    {
     "data": {
      "text/plain": [
       "array([[25, 10, 68, 60, 80, 33],\n",
       "       [96,  6, 57, 37, 84, 20],\n",
       "       [12, 38, 67, 56, 18, 87],\n",
       "       [30, 25, 13, 72, 84, 19],\n",
       "       [63, 28, 47, 34, 56, 75]])"
      ]
     },
     "execution_count": 14,
     "metadata": {},
     "output_type": "execute_result"
    }
   ],
   "source": [
    "a=np.random.randint(1,100,30).reshape(5,6)\n",
    "a"
   ]
  },
  {
   "cell_type": "code",
   "execution_count": 24,
   "id": "00fb96b0-6d0b-4c66-a899-6e8ba4bc5302",
   "metadata": {},
   "outputs": [],
   "source": [
    "np.random.seed(100)\n",
    "M=ri(1,100,25).reshape(5,5)"
   ]
  },
  {
   "cell_type": "code",
   "execution_count": 25,
   "id": "e1866c59-06a0-4eb8-b2aa-4ea0f913a63a",
   "metadata": {},
   "outputs": [
    {
     "data": {
      "text/plain": [
       "array([[ 9, 25, 68, 88, 80],\n",
       "       [49, 11, 95, 53, 99],\n",
       "       [54, 67, 99, 15, 35],\n",
       "       [25, 16, 61, 59, 17],\n",
       "       [10, 94, 87,  3, 28]])"
      ]
     },
     "execution_count": 25,
     "metadata": {},
     "output_type": "execute_result"
    }
   ],
   "source": [
    "M"
   ]
  },
  {
   "cell_type": "code",
   "execution_count": 28,
   "id": "eb8e2f77-aff1-4d1f-ad68-39daa0b542b6",
   "metadata": {},
   "outputs": [
    {
     "data": {
      "text/plain": [
       "array([[ 9, 25, 68, 80, 88],\n",
       "       [11, 49, 53, 95, 99],\n",
       "       [15, 35, 54, 67, 99],\n",
       "       [16, 17, 25, 59, 61],\n",
       "       [ 3, 10, 28, 87, 94]])"
      ]
     },
     "execution_count": 28,
     "metadata": {},
     "output_type": "execute_result"
    }
   ],
   "source": [
    "np.sort(M)#column wise/hori"
   ]
  },
  {
   "cell_type": "code",
   "execution_count": 27,
   "id": "f547477c-0c0d-4e71-96dd-45c50de03040",
   "metadata": {},
   "outputs": [
    {
     "data": {
      "text/plain": [
       "array([[ 9, 25, 68, 80, 88],\n",
       "       [11, 49, 53, 95, 99],\n",
       "       [15, 35, 54, 67, 99],\n",
       "       [16, 17, 25, 59, 61],\n",
       "       [ 3, 10, 28, 87, 94]])"
      ]
     },
     "execution_count": 27,
     "metadata": {},
     "output_type": "execute_result"
    }
   ],
   "source": [
    "np.sort(M,axis=1)# row wise/vertically"
   ]
  },
  {
   "cell_type": "code",
   "execution_count": 29,
   "id": "b42cccaa-7628-496b-9d89-837eb6401ba6",
   "metadata": {},
   "outputs": [
    {
     "name": "stdout",
     "output_type": "stream",
     "text": [
      "[ 5 32  2 14 84  5 92 60 68  8 50 48 66 62 15 56 72 81  3 95 20 99 64 54\n",
      " 28 57 31 49 48 40]\n",
      "-------------------------------------\n",
      "[[ 5 32  2 14 84]\n",
      " [ 5 92 60 68  8]\n",
      " [50 48 66 62 15]\n",
      " [56 72 81  3 95]\n",
      " [20 99 64 54 28]\n",
      " [57 31 49 48 40]]\n"
     ]
    }
   ],
   "source": [
    "a=ri(1,100,30)\n",
    "print(a)\n",
    "print(\"-------------------------------------\")\n",
    "b=a.reshape(6,5)\n",
    "print(b)"
   ]
  },
  {
   "cell_type": "code",
   "execution_count": 30,
   "id": "c11208f3-e501-4f66-a13f-c0901e639691",
   "metadata": {},
   "outputs": [
    {
     "data": {
      "text/plain": [
       "99"
      ]
     },
     "execution_count": 30,
     "metadata": {},
     "output_type": "execute_result"
    }
   ],
   "source": [
    "a.max()# max values in the series or array"
   ]
  },
  {
   "cell_type": "code",
   "execution_count": 31,
   "id": "2d676019-6a5b-47d5-9453-5405bda17dfd",
   "metadata": {},
   "outputs": [
    {
     "data": {
      "text/plain": [
       "2"
      ]
     },
     "execution_count": 31,
     "metadata": {},
     "output_type": "execute_result"
    }
   ],
   "source": [
    "a.min()# Min values in the series or array"
   ]
  },
  {
   "cell_type": "code",
   "execution_count": 33,
   "id": "c6370cf7-14b9-495a-8dc0-d3a4f917c353",
   "metadata": {},
   "outputs": [
    {
     "data": {
      "text/plain": [
       "21"
      ]
     },
     "execution_count": 33,
     "metadata": {},
     "output_type": "execute_result"
    }
   ],
   "source": [
    "a.argmax()# argmax return the index  values of the largest number in the series or array"
   ]
  },
  {
   "cell_type": "code",
   "execution_count": 34,
   "id": "d1e0eb8c-78b3-4f95-8cc5-ac725b1887aa",
   "metadata": {},
   "outputs": [
    {
     "data": {
      "text/plain": [
       "99"
      ]
     },
     "execution_count": 34,
     "metadata": {},
     "output_type": "execute_result"
    }
   ],
   "source": [
    "b.max()"
   ]
  },
  {
   "cell_type": "code",
   "execution_count": 35,
   "id": "fab81a25-3e0a-410c-a60f-8a11c0b50300",
   "metadata": {},
   "outputs": [
    {
     "data": {
      "text/plain": [
       "2"
      ]
     },
     "execution_count": 35,
     "metadata": {},
     "output_type": "execute_result"
    }
   ],
   "source": [
    "b.min()"
   ]
  },
  {
   "cell_type": "code",
   "execution_count": 36,
   "id": "7d00e1b9-cb33-48cb-9666-cd12acb67998",
   "metadata": {},
   "outputs": [
    {
     "data": {
      "text/plain": [
       "21"
      ]
     },
     "execution_count": 36,
     "metadata": {},
     "output_type": "execute_result"
    }
   ],
   "source": [
    "b.argmax()"
   ]
  },
  {
   "cell_type": "code",
   "execution_count": 37,
   "id": "3e1a1cf3-b00e-4be9-a444-2bc64c0b5425",
   "metadata": {},
   "outputs": [
    {
     "data": {
      "text/plain": [
       "array([[ 5, 32,  2, 14, 84],\n",
       "       [ 5, 92, 60, 68,  8],\n",
       "       [50, 48, 66, 62, 15],\n",
       "       [56, 72, 81,  3, 95],\n",
       "       [20, 99, 64, 54, 28],\n",
       "       [57, 31, 49, 48, 40]])"
      ]
     },
     "execution_count": 37,
     "metadata": {},
     "output_type": "execute_result"
    }
   ],
   "source": [
    "b"
   ]
  },
  {
   "cell_type": "code",
   "execution_count": 38,
   "id": "09dc999f-6c8f-440d-a515-6f599eedd82b",
   "metadata": {},
   "outputs": [
    {
     "data": {
      "text/plain": [
       "array([57, 99, 81, 68, 95])"
      ]
     },
     "execution_count": 38,
     "metadata": {},
     "output_type": "execute_result"
    }
   ],
   "source": [
    "b.max(axis=0)#column wise"
   ]
  },
  {
   "cell_type": "code",
   "execution_count": 40,
   "id": "47c4da7b-babe-46b1-bfa3-86280763dd4d",
   "metadata": {},
   "outputs": [
    {
     "data": {
      "text/plain": [
       "array([84, 92, 66, 95, 99, 57])"
      ]
     },
     "execution_count": 40,
     "metadata": {},
     "output_type": "execute_result"
    }
   ],
   "source": [
    "b.max(axis=1)#row wise"
   ]
  },
  {
   "cell_type": "markdown",
   "id": "8624dcdf-345b-474c-ace3-30681690b70e",
   "metadata": {},
   "source": [
    "# Accessing of 2D matrixes"
   ]
  },
  {
   "cell_type": "code",
   "execution_count": 42,
   "id": "ef3faca4-4d12-4155-86d0-9b6582c23424",
   "metadata": {},
   "outputs": [
    {
     "name": "stdout",
     "output_type": "stream",
     "text": [
      "[[ 1  2  3  9 10]\n",
      " [12 34  4  5  6]\n",
      " [65 76  7  8  9]\n",
      " [12 34  4  5  6]\n",
      " [65 76  7  8  9]]\n"
     ]
    }
   ],
   "source": [
    "x=np.array([[1,2,3,9,10],[12,34,4,5,6],[65,76,7,8,9],[12,34,4,5,6],[65,76,7,8,9]])\n",
    "print(x)"
   ]
  },
  {
   "cell_type": "markdown",
   "id": "41a0bbd7-1a5d-433c-80ef-5441523ecd9e",
   "metadata": {},
   "source": [
    "#### x[:,:]# first colon row and second colon column denotes"
   ]
  },
  {
   "cell_type": "code",
   "execution_count": 43,
   "id": "8327aa4e-85d9-4631-bc20-047659f8e366",
   "metadata": {},
   "outputs": [
    {
     "data": {
      "text/plain": [
       "array([[34,  4],\n",
       "       [76,  7]])"
      ]
     },
     "execution_count": 43,
     "metadata": {},
     "output_type": "execute_result"
    }
   ],
   "source": [
    "x[1:3,1:3]"
   ]
  },
  {
   "cell_type": "code",
   "execution_count": 45,
   "id": "5cd48adb-5dee-4c3d-a63f-fcfb99ee3a21",
   "metadata": {},
   "outputs": [
    {
     "data": {
      "text/plain": [
       "array([[4, 5],\n",
       "       [7, 8],\n",
       "       [4, 5]])"
      ]
     },
     "execution_count": 45,
     "metadata": {},
     "output_type": "execute_result"
    }
   ],
   "source": [
    "x[1:4,2:4]"
   ]
  },
  {
   "cell_type": "markdown",
   "id": "bd8ed25f-f7e1-44f2-967e-3f9f79eed426",
   "metadata": {},
   "source": [
    "# 3D matrix"
   ]
  },
  {
   "cell_type": "code",
   "execution_count": 46,
   "id": "a47717f2-29aa-47f7-ac39-e5513e8b91e5",
   "metadata": {},
   "outputs": [
    {
     "data": {
      "text/plain": [
       "array([ 0,  1,  2,  3,  4,  5,  6,  7,  8,  9, 10, 11, 12, 13, 14, 15, 16,\n",
       "       17, 18, 19, 20, 21, 22, 23])"
      ]
     },
     "execution_count": 46,
     "metadata": {},
     "output_type": "execute_result"
    }
   ],
   "source": [
    "a=np.arange(24)\n",
    "a"
   ]
  },
  {
   "cell_type": "code",
   "execution_count": 47,
   "id": "6ebf37d3-93d6-4faa-ba88-e720c334b71f",
   "metadata": {},
   "outputs": [
    {
     "data": {
      "text/plain": [
       "array([[[ 0,  1,  2],\n",
       "        [ 3,  4,  5],\n",
       "        [ 6,  7,  8],\n",
       "        [ 9, 10, 11]],\n",
       "\n",
       "       [[12, 13, 14],\n",
       "        [15, 16, 17],\n",
       "        [18, 19, 20],\n",
       "        [21, 22, 23]]])"
      ]
     },
     "execution_count": 47,
     "metadata": {},
     "output_type": "execute_result"
    }
   ],
   "source": [
    "b=a.reshape(2,4,3)\n",
    "b"
   ]
  },
  {
   "cell_type": "code",
   "execution_count": 49,
   "id": "c8dc9013-10f4-43b5-8cfe-8aed8bd8138c",
   "metadata": {},
   "outputs": [
    {
     "data": {
      "text/plain": [
       "array([ 0,  1,  2,  3,  4,  5,  6,  7,  8,  9, 10, 11, 12, 13, 14, 15, 16,\n",
       "       17, 18, 19, 20, 21, 22, 23])"
      ]
     },
     "execution_count": 49,
     "metadata": {},
     "output_type": "execute_result"
    }
   ],
   "source": [
    "b.ravel()# all array  falt convert  in the list"
   ]
  },
  {
   "cell_type": "code",
   "execution_count": 50,
   "id": "a1fe8230-4a25-447f-92d9-e3fb0bd79f42",
   "metadata": {},
   "outputs": [],
   "source": [
    "# logspace\n",
    "a=np.logspace(2,3,num=4)"
   ]
  },
  {
   "cell_type": "code",
   "execution_count": 51,
   "id": "39b5c90f-557e-4306-b520-ce37050bf355",
   "metadata": {},
   "outputs": [
    {
     "data": {
      "text/plain": [
       "array([ 100.        ,  215.443469  ,  464.15888336, 1000.        ])"
      ]
     },
     "execution_count": 51,
     "metadata": {},
     "output_type": "execute_result"
    }
   ],
   "source": [
    "a"
   ]
  },
  {
   "cell_type": "code",
   "execution_count": 52,
   "id": "6349f3f6-7dc2-4299-a999-c5b9918be902",
   "metadata": {},
   "outputs": [
    {
     "data": {
      "text/plain": [
       "array([[1, 2, 3],\n",
       "       [4, 5, 6]])"
      ]
     },
     "execution_count": 52,
     "metadata": {},
     "output_type": "execute_result"
    }
   ],
   "source": [
    "a=np.array([[1,2,3],[4,5,6]])\n",
    "a"
   ]
  },
  {
   "cell_type": "code",
   "execution_count": 54,
   "id": "61c835ad-864b-4b50-a4f9-18e1c72b5444",
   "metadata": {},
   "outputs": [
    {
     "data": {
      "text/plain": [
       "array([[1, 4],\n",
       "       [2, 5],\n",
       "       [3, 6]])"
      ]
     },
     "execution_count": 54,
     "metadata": {},
     "output_type": "execute_result"
    }
   ],
   "source": [
    "a.transpose()"
   ]
  },
  {
   "cell_type": "code",
   "execution_count": 55,
   "id": "162ed20f-52ec-431e-8fb2-781f28e741cb",
   "metadata": {},
   "outputs": [
    {
     "data": {
      "text/plain": [
       "array([[1, 4],\n",
       "       [2, 5],\n",
       "       [3, 6]])"
      ]
     },
     "execution_count": 55,
     "metadata": {},
     "output_type": "execute_result"
    }
   ],
   "source": [
    "a.T"
   ]
  },
  {
   "cell_type": "code",
   "execution_count": 62,
   "id": "b4f5335d-069d-468f-9d4d-ea676c2e3906",
   "metadata": {},
   "outputs": [
    {
     "name": "stdout",
     "output_type": "stream",
     "text": [
      "[[1 2]\n",
      " [3 4]]\n",
      "-------------------------------------------------\n",
      "[[5 6]\n",
      " [7 8]]\n",
      "-------------------------------------------------\n",
      "[[1 2]\n",
      " [3 4]\n",
      " [5 6]\n",
      " [7 8]]\n",
      "-------------------------------------------------\n"
     ]
    },
    {
     "data": {
      "text/plain": [
       "array([[1, 2, 5, 6],\n",
       "       [3, 4, 7, 8]])"
      ]
     },
     "execution_count": 62,
     "metadata": {},
     "output_type": "execute_result"
    }
   ],
   "source": [
    "a=np.array([[1,2],[3,4]])\n",
    "print(a)\n",
    "print(\"-------------------------------------------------\")\n",
    "b=np.array([[5,6],[7,8]])\n",
    "print(b)\n",
    "print(\"-------------------------------------------------\")\n",
    "print(np.concatenate((a,b),axis=0))\n",
    "print(\"-------------------------------------------------\")\n",
    "np.concatenate((a,b),axis=1)"
   ]
  },
  {
   "cell_type": "markdown",
   "id": "84d553d9-42a4-4608-ad6c-02771ae38084",
   "metadata": {},
   "source": [
    "# split"
   ]
  },
  {
   "cell_type": "code",
   "execution_count": 58,
   "id": "99bf050b-1f82-493c-9ba6-47fa97bd8a3b",
   "metadata": {},
   "outputs": [
    {
     "data": {
      "text/plain": [
       "[array([0, 1, 2, 3]), array([4, 5, 6, 7]), array([ 8,  9, 10, 11])]"
      ]
     },
     "execution_count": 58,
     "metadata": {},
     "output_type": "execute_result"
    }
   ],
   "source": [
    "a=np.arange(12)\n",
    "np.split(a,3)"
   ]
  },
  {
   "cell_type": "code",
   "execution_count": 59,
   "id": "babb88b2-2947-435c-b9c6-af89860e4968",
   "metadata": {},
   "outputs": [
    {
     "data": {
      "text/plain": [
       "['Banglore']"
      ]
     },
     "execution_count": 59,
     "metadata": {},
     "output_type": "execute_result"
    }
   ],
   "source": [
    "str1=\"Banglore\"\n",
    "str1.split(\" \")"
   ]
  },
  {
   "cell_type": "markdown",
   "id": "17144b42-cb78-46fa-83bb-3a976c268db5",
   "metadata": {},
   "source": [
    "# resize"
   ]
  },
  {
   "cell_type": "code",
   "execution_count": 60,
   "id": "b684303f-aee8-4806-bc4f-1fd896bccd17",
   "metadata": {},
   "outputs": [
    {
     "data": {
      "text/plain": [
       "array([[1, 2],\n",
       "       [3, 4],\n",
       "       [5, 6]])"
      ]
     },
     "execution_count": 60,
     "metadata": {},
     "output_type": "execute_result"
    }
   ],
   "source": [
    "a=np.array([[1,2,3],[4,5,6]])\n",
    "np.resize(a,(3,2))"
   ]
  },
  {
   "cell_type": "markdown",
   "id": "7806937d-2bb5-4e13-ae5c-b60376f417f6",
   "metadata": {},
   "source": [
    "# appened"
   ]
  },
  {
   "cell_type": "code",
   "execution_count": 66,
   "id": "9742c568-43f9-4c73-ae0c-1f133b5857ee",
   "metadata": {},
   "outputs": [
    {
     "name": "stdout",
     "output_type": "stream",
     "text": [
      "-------------------------------------------------\n",
      "[[1 2 3]\n",
      " [4 5 6]]\n",
      "-------------------------------------------------\n",
      "[1 2 3 4 5 6 7 8 9]\n"
     ]
    }
   ],
   "source": [
    "a=np.array([[1,2,3],[4,5,6]])\n",
    "print(\"-------------------------------------------------\")\n",
    "print(a)\n",
    "print(\"-------------------------------------------------\")\n",
    "print(np.append(a,[[7,8,9]]))\n"
   ]
  },
  {
   "cell_type": "markdown",
   "id": "745a9150-da0f-4abe-ba66-03a9e8fed1e2",
   "metadata": {},
   "source": [
    "# Trigonmetric Functions"
   ]
  },
  {
   "cell_type": "code",
   "execution_count": 67,
   "id": "99f58f69-350a-4dc2-8ff6-88b62301ac87",
   "metadata": {},
   "outputs": [
    {
     "name": "stdout",
     "output_type": "stream",
     "text": [
      "[ 0 30 45 60 90]\n",
      "---------------------------------\n",
      "[0.         0.5        0.70710678 0.8660254  1.        ]\n"
     ]
    }
   ],
   "source": [
    "a=np.array([0,30,45,60,90])\n",
    "print(a)\n",
    "print(\"---------------------------------\")\n",
    "print(np.sin(a*np.pi/180))"
   ]
  },
  {
   "cell_type": "code",
   "execution_count": 68,
   "id": "e471793d-af84-436f-b508-50c1836f50ea",
   "metadata": {},
   "outputs": [
    {
     "data": {
      "text/plain": [
       "array([ 0.        , -0.98803162,  0.85090352, -0.30481062,  0.89399666])"
      ]
     },
     "execution_count": 68,
     "metadata": {},
     "output_type": "execute_result"
    }
   ],
   "source": [
    "np.sin(a)"
   ]
  },
  {
   "cell_type": "code",
   "execution_count": 70,
   "id": "3929e275-71b9-4ada-84dc-f5bf04960fc2",
   "metadata": {},
   "outputs": [
    {
     "name": "stdout",
     "output_type": "stream",
     "text": [
      "6.123233995736766e-17\n"
     ]
    }
   ],
   "source": [
    "print(np.cos(90*np.pi/180))"
   ]
  }
 ],
 "metadata": {
  "kernelspec": {
   "display_name": "Python 3 (ipykernel)",
   "language": "python",
   "name": "python3"
  },
  "language_info": {
   "codemirror_mode": {
    "name": "ipython",
    "version": 3
   },
   "file_extension": ".py",
   "mimetype": "text/x-python",
   "name": "python",
   "nbconvert_exporter": "python",
   "pygments_lexer": "ipython3",
   "version": "3.12.4"
  }
 },
 "nbformat": 4,
 "nbformat_minor": 5
}
