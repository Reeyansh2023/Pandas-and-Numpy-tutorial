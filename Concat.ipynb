{
 "cells": [
  {
   "cell_type": "code",
   "execution_count": 11,
   "id": "74197c73-4d23-4dfe-8f97-87c728b02ad8",
   "metadata": {},
   "outputs": [],
   "source": [
    "import pandas as pd"
   ]
  },
  {
   "cell_type": "code",
   "execution_count": 12,
   "id": "a63daa9b-32c0-49ca-8852-08aaf0755257",
   "metadata": {},
   "outputs": [],
   "source": [
    "df1=pd.DataFrame({\"Name\":[\"vickey\",\"Bill\"],\"Age\":[12,16]})\n",
    "df2=pd.DataFrame({\"Name\":[\"john\",\"sabrina\"],\"Age\":[37,25]})"
   ]
  },
  {
   "cell_type": "code",
   "execution_count": 13,
   "id": "7c452e2f-0560-4077-b964-5e8eb87ab02f",
   "metadata": {},
   "outputs": [
    {
     "name": "stdout",
     "output_type": "stream",
     "text": [
      "     Name  Age\n",
      "0  vickey   12\n",
      "1    Bill   16\n",
      "--------------------------------------------------------\n",
      "      Name  Age\n",
      "0     john   37\n",
      "1  sabrina   25\n"
     ]
    }
   ],
   "source": [
    "print(df1)\n",
    "print('--------------------------------------------------------')\n",
    "print(df2)"
   ]
  },
  {
   "cell_type": "markdown",
   "id": "ad1d94f0-ad0d-4947-99b7-d8dedc10999f",
   "metadata": {},
   "source": [
    "# concat check column"
   ]
  },
  {
   "cell_type": "markdown",
   "id": "b29505e8-7b13-46e4-b64f-3e23c46850e5",
   "metadata": {},
   "source": [
    "# concat Horizontally (axis= column /1)"
   ]
  },
  {
   "cell_type": "code",
   "execution_count": 14,
   "id": "ffdf420b-51ee-439c-bf08-73a6b0cf27dd",
   "metadata": {},
   "outputs": [
    {
     "data": {
      "text/html": [
       "<div>\n",
       "<style scoped>\n",
       "    .dataframe tbody tr th:only-of-type {\n",
       "        vertical-align: middle;\n",
       "    }\n",
       "\n",
       "    .dataframe tbody tr th {\n",
       "        vertical-align: top;\n",
       "    }\n",
       "\n",
       "    .dataframe thead th {\n",
       "        text-align: right;\n",
       "    }\n",
       "</style>\n",
       "<table border=\"1\" class=\"dataframe\">\n",
       "  <thead>\n",
       "    <tr style=\"text-align: right;\">\n",
       "      <th></th>\n",
       "      <th>Name</th>\n",
       "      <th>Age</th>\n",
       "      <th>Name</th>\n",
       "      <th>Age</th>\n",
       "    </tr>\n",
       "  </thead>\n",
       "  <tbody>\n",
       "    <tr>\n",
       "      <th>0</th>\n",
       "      <td>vickey</td>\n",
       "      <td>12</td>\n",
       "      <td>john</td>\n",
       "      <td>37</td>\n",
       "    </tr>\n",
       "    <tr>\n",
       "      <th>1</th>\n",
       "      <td>Bill</td>\n",
       "      <td>16</td>\n",
       "      <td>sabrina</td>\n",
       "      <td>25</td>\n",
       "    </tr>\n",
       "  </tbody>\n",
       "</table>\n",
       "</div>"
      ],
      "text/plain": [
       "     Name  Age     Name  Age\n",
       "0  vickey   12     john   37\n",
       "1    Bill   16  sabrina   25"
      ]
     },
     "execution_count": 14,
     "metadata": {},
     "output_type": "execute_result"
    }
   ],
   "source": [
    "cars=pd.concat([df1,df2],axis=1)\n",
    "cars"
   ]
  },
  {
   "cell_type": "markdown",
   "id": "7442eae5-bab8-495a-a164-7e8c983f368f",
   "metadata": {},
   "source": [
    "# concat Vertically  and ignore index=True (axis=0)"
   ]
  },
  {
   "cell_type": "code",
   "execution_count": 15,
   "id": "b1f0af9c-8185-4567-832d-337b0a2051ed",
   "metadata": {},
   "outputs": [
    {
     "data": {
      "text/html": [
       "<div>\n",
       "<style scoped>\n",
       "    .dataframe tbody tr th:only-of-type {\n",
       "        vertical-align: middle;\n",
       "    }\n",
       "\n",
       "    .dataframe tbody tr th {\n",
       "        vertical-align: top;\n",
       "    }\n",
       "\n",
       "    .dataframe thead th {\n",
       "        text-align: right;\n",
       "    }\n",
       "</style>\n",
       "<table border=\"1\" class=\"dataframe\">\n",
       "  <thead>\n",
       "    <tr style=\"text-align: right;\">\n",
       "      <th></th>\n",
       "      <th>Name</th>\n",
       "      <th>Age</th>\n",
       "    </tr>\n",
       "  </thead>\n",
       "  <tbody>\n",
       "    <tr>\n",
       "      <th>0</th>\n",
       "      <td>vickey</td>\n",
       "      <td>12</td>\n",
       "    </tr>\n",
       "    <tr>\n",
       "      <th>1</th>\n",
       "      <td>Bill</td>\n",
       "      <td>16</td>\n",
       "    </tr>\n",
       "    <tr>\n",
       "      <th>2</th>\n",
       "      <td>john</td>\n",
       "      <td>37</td>\n",
       "    </tr>\n",
       "    <tr>\n",
       "      <th>3</th>\n",
       "      <td>sabrina</td>\n",
       "      <td>25</td>\n",
       "    </tr>\n",
       "  </tbody>\n",
       "</table>\n",
       "</div>"
      ],
      "text/plain": [
       "      Name  Age\n",
       "0   vickey   12\n",
       "1     Bill   16\n",
       "2     john   37\n",
       "3  sabrina   25"
      ]
     },
     "execution_count": 15,
     "metadata": {},
     "output_type": "execute_result"
    }
   ],
   "source": [
    "df3=pd.concat([df1,df2],axis=0,ignore_index=True)\n",
    "df3"
   ]
  },
  {
   "cell_type": "code",
   "execution_count": 16,
   "id": "7788fd9b-bc64-49dd-b38f-a79342f9eca9",
   "metadata": {},
   "outputs": [
    {
     "data": {
      "text/html": [
       "<div>\n",
       "<style scoped>\n",
       "    .dataframe tbody tr th:only-of-type {\n",
       "        vertical-align: middle;\n",
       "    }\n",
       "\n",
       "    .dataframe tbody tr th {\n",
       "        vertical-align: top;\n",
       "    }\n",
       "\n",
       "    .dataframe thead th {\n",
       "        text-align: right;\n",
       "    }\n",
       "</style>\n",
       "<table border=\"1\" class=\"dataframe\">\n",
       "  <thead>\n",
       "    <tr style=\"text-align: right;\">\n",
       "      <th></th>\n",
       "      <th>Name</th>\n",
       "      <th>Age</th>\n",
       "      <th>Hobby</th>\n",
       "    </tr>\n",
       "  </thead>\n",
       "  <tbody>\n",
       "    <tr>\n",
       "      <th>0</th>\n",
       "      <td>Anshul</td>\n",
       "      <td>30</td>\n",
       "      <td>Playing Chess</td>\n",
       "    </tr>\n",
       "    <tr>\n",
       "      <th>1</th>\n",
       "      <td>Shikha</td>\n",
       "      <td>25</td>\n",
       "      <td>Reading</td>\n",
       "    </tr>\n",
       "  </tbody>\n",
       "</table>\n",
       "</div>"
      ],
      "text/plain": [
       "     Name  Age          Hobby\n",
       "0  Anshul   30  Playing Chess\n",
       "1  Shikha   25        Reading"
      ]
     },
     "execution_count": 16,
     "metadata": {},
     "output_type": "execute_result"
    }
   ],
   "source": [
    "df4=pd.DataFrame({\"Name\":[\"Anshul\",\"Shikha\"],\"Age\":[30,25],\"Hobby\":[\"Playing Chess\",\"Reading\"]})\n",
    "df4"
   ]
  },
  {
   "cell_type": "markdown",
   "id": "b3435750-70d5-4344-81d6-888c50668938",
   "metadata": {},
   "source": [
    "# outer is the default for the join argument"
   ]
  },
  {
   "cell_type": "code",
   "execution_count": 20,
   "id": "a68a659b-7fa6-4970-b379-2384895cddfd",
   "metadata": {},
   "outputs": [
    {
     "data": {
      "text/html": [
       "<div>\n",
       "<style scoped>\n",
       "    .dataframe tbody tr th:only-of-type {\n",
       "        vertical-align: middle;\n",
       "    }\n",
       "\n",
       "    .dataframe tbody tr th {\n",
       "        vertical-align: top;\n",
       "    }\n",
       "\n",
       "    .dataframe thead th {\n",
       "        text-align: right;\n",
       "    }\n",
       "</style>\n",
       "<table border=\"1\" class=\"dataframe\">\n",
       "  <thead>\n",
       "    <tr style=\"text-align: right;\">\n",
       "      <th></th>\n",
       "      <th>Name</th>\n",
       "      <th>Age</th>\n",
       "      <th>Hobby</th>\n",
       "    </tr>\n",
       "  </thead>\n",
       "  <tbody>\n",
       "    <tr>\n",
       "      <th>0</th>\n",
       "      <td>vickey</td>\n",
       "      <td>12</td>\n",
       "      <td>NaN</td>\n",
       "    </tr>\n",
       "    <tr>\n",
       "      <th>1</th>\n",
       "      <td>Bill</td>\n",
       "      <td>16</td>\n",
       "      <td>NaN</td>\n",
       "    </tr>\n",
       "    <tr>\n",
       "      <th>2</th>\n",
       "      <td>john</td>\n",
       "      <td>37</td>\n",
       "      <td>NaN</td>\n",
       "    </tr>\n",
       "    <tr>\n",
       "      <th>3</th>\n",
       "      <td>sabrina</td>\n",
       "      <td>25</td>\n",
       "      <td>NaN</td>\n",
       "    </tr>\n",
       "    <tr>\n",
       "      <th>4</th>\n",
       "      <td>Anshul</td>\n",
       "      <td>30</td>\n",
       "      <td>Playing Chess</td>\n",
       "    </tr>\n",
       "    <tr>\n",
       "      <th>5</th>\n",
       "      <td>Shikha</td>\n",
       "      <td>25</td>\n",
       "      <td>Reading</td>\n",
       "    </tr>\n",
       "  </tbody>\n",
       "</table>\n",
       "</div>"
      ],
      "text/plain": [
       "      Name  Age          Hobby\n",
       "0   vickey   12            NaN\n",
       "1     Bill   16            NaN\n",
       "2     john   37            NaN\n",
       "3  sabrina   25            NaN\n",
       "4   Anshul   30  Playing Chess\n",
       "5   Shikha   25        Reading"
      ]
     },
     "execution_count": 20,
     "metadata": {},
     "output_type": "execute_result"
    }
   ],
   "source": [
    "pd.concat([df3,df4],join='outer',ignore_index=True)"
   ]
  },
  {
   "cell_type": "markdown",
   "id": "303e949b-f86a-4493-8fdf-80ad95c991e8",
   "metadata": {},
   "source": [
    "# Inner stacks only the columns that are shared between the two Dataframe"
   ]
  },
  {
   "cell_type": "code",
   "execution_count": 21,
   "id": "a9d74de1-5a70-460a-9363-322eb2af5a1c",
   "metadata": {},
   "outputs": [
    {
     "data": {
      "text/html": [
       "<div>\n",
       "<style scoped>\n",
       "    .dataframe tbody tr th:only-of-type {\n",
       "        vertical-align: middle;\n",
       "    }\n",
       "\n",
       "    .dataframe tbody tr th {\n",
       "        vertical-align: top;\n",
       "    }\n",
       "\n",
       "    .dataframe thead th {\n",
       "        text-align: right;\n",
       "    }\n",
       "</style>\n",
       "<table border=\"1\" class=\"dataframe\">\n",
       "  <thead>\n",
       "    <tr style=\"text-align: right;\">\n",
       "      <th></th>\n",
       "      <th>Name</th>\n",
       "      <th>Age</th>\n",
       "    </tr>\n",
       "  </thead>\n",
       "  <tbody>\n",
       "    <tr>\n",
       "      <th>0</th>\n",
       "      <td>vickey</td>\n",
       "      <td>12</td>\n",
       "    </tr>\n",
       "    <tr>\n",
       "      <th>1</th>\n",
       "      <td>Bill</td>\n",
       "      <td>16</td>\n",
       "    </tr>\n",
       "    <tr>\n",
       "      <th>2</th>\n",
       "      <td>john</td>\n",
       "      <td>37</td>\n",
       "    </tr>\n",
       "    <tr>\n",
       "      <th>3</th>\n",
       "      <td>sabrina</td>\n",
       "      <td>25</td>\n",
       "    </tr>\n",
       "    <tr>\n",
       "      <th>4</th>\n",
       "      <td>Anshul</td>\n",
       "      <td>30</td>\n",
       "    </tr>\n",
       "    <tr>\n",
       "      <th>5</th>\n",
       "      <td>Shikha</td>\n",
       "      <td>25</td>\n",
       "    </tr>\n",
       "  </tbody>\n",
       "</table>\n",
       "</div>"
      ],
      "text/plain": [
       "      Name  Age\n",
       "0   vickey   12\n",
       "1     Bill   16\n",
       "2     john   37\n",
       "3  sabrina   25\n",
       "4   Anshul   30\n",
       "5   Shikha   25"
      ]
     },
     "execution_count": 21,
     "metadata": {},
     "output_type": "execute_result"
    }
   ],
   "source": [
    "pd.concat([df3,df4],join='inner',ignore_index=True)"
   ]
  },
  {
   "cell_type": "markdown",
   "id": "780b42b1-bdd8-47d4-b802-e22abf4d2f6e",
   "metadata": {},
   "source": [
    "# Merge"
   ]
  },
  {
   "cell_type": "markdown",
   "id": "f019a766-7cf6-42d8-af80-92546d4f1c1b",
   "metadata": {},
   "source": [
    "# Merge check row"
   ]
  },
  {
   "cell_type": "code",
   "execution_count": 22,
   "id": "7f942538-ad1f-4cca-bd64-43aec22c403e",
   "metadata": {},
   "outputs": [],
   "source": [
    "size=pd.DataFrame({'Colour':['Red','Blue','Green'],\"Size\":[\"M\",\"S\",\"M\"]})\n",
    "gender=pd.DataFrame({'Colour':['Red','Blue','Yellow'],\"Sex\":[\"Female\",\"Female\",\"Male\"]})"
   ]
  },
  {
   "cell_type": "code",
   "execution_count": 24,
   "id": "d083bb07-96bc-4ea2-ba38-358e5857f00c",
   "metadata": {},
   "outputs": [
    {
     "name": "stdout",
     "output_type": "stream",
     "text": [
      "  Colour Size\n",
      "0    Red    M\n",
      "1   Blue    S\n",
      "2  Green    M\n",
      "--------------------------------------------------------------------\n",
      "   Colour     Sex\n",
      "0     Red  Female\n",
      "1    Blue  Female\n",
      "2  Yellow    Male\n"
     ]
    }
   ],
   "source": [
    "print(size)\n",
    "print('--------------------------------------------------------------------')\n",
    "print(gender)"
   ]
  },
  {
   "cell_type": "code",
   "execution_count": 25,
   "id": "54b0f745-8429-4162-873b-04912054251f",
   "metadata": {},
   "outputs": [
    {
     "data": {
      "text/html": [
       "<div>\n",
       "<style scoped>\n",
       "    .dataframe tbody tr th:only-of-type {\n",
       "        vertical-align: middle;\n",
       "    }\n",
       "\n",
       "    .dataframe tbody tr th {\n",
       "        vertical-align: top;\n",
       "    }\n",
       "\n",
       "    .dataframe thead th {\n",
       "        text-align: right;\n",
       "    }\n",
       "</style>\n",
       "<table border=\"1\" class=\"dataframe\">\n",
       "  <thead>\n",
       "    <tr style=\"text-align: right;\">\n",
       "      <th></th>\n",
       "      <th>Colour</th>\n",
       "      <th>Size</th>\n",
       "      <th>Sex</th>\n",
       "    </tr>\n",
       "  </thead>\n",
       "  <tbody>\n",
       "    <tr>\n",
       "      <th>0</th>\n",
       "      <td>Red</td>\n",
       "      <td>M</td>\n",
       "      <td>Female</td>\n",
       "    </tr>\n",
       "    <tr>\n",
       "      <th>1</th>\n",
       "      <td>Blue</td>\n",
       "      <td>S</td>\n",
       "      <td>Female</td>\n",
       "    </tr>\n",
       "  </tbody>\n",
       "</table>\n",
       "</div>"
      ],
      "text/plain": [
       "  Colour Size     Sex\n",
       "0    Red    M  Female\n",
       "1   Blue    S  Female"
      ]
     },
     "execution_count": 25,
     "metadata": {},
     "output_type": "execute_result"
    }
   ],
   "source": [
    "# only show rows where there is a match in the column\n",
    "# Red and Blue are present in both dataframe\n",
    "pd.merge(size,gender,how='inner')# how is a keyword"
   ]
  },
  {
   "cell_type": "code",
   "execution_count": 26,
   "id": "30c54b99-8842-4a72-9697-2220f1bae37f",
   "metadata": {},
   "outputs": [
    {
     "data": {
      "text/html": [
       "<div>\n",
       "<style scoped>\n",
       "    .dataframe tbody tr th:only-of-type {\n",
       "        vertical-align: middle;\n",
       "    }\n",
       "\n",
       "    .dataframe tbody tr th {\n",
       "        vertical-align: top;\n",
       "    }\n",
       "\n",
       "    .dataframe thead th {\n",
       "        text-align: right;\n",
       "    }\n",
       "</style>\n",
       "<table border=\"1\" class=\"dataframe\">\n",
       "  <thead>\n",
       "    <tr style=\"text-align: right;\">\n",
       "      <th></th>\n",
       "      <th>Colour</th>\n",
       "      <th>Size</th>\n",
       "      <th>Sex</th>\n",
       "    </tr>\n",
       "  </thead>\n",
       "  <tbody>\n",
       "    <tr>\n",
       "      <th>0</th>\n",
       "      <td>Blue</td>\n",
       "      <td>S</td>\n",
       "      <td>Female</td>\n",
       "    </tr>\n",
       "    <tr>\n",
       "      <th>1</th>\n",
       "      <td>Green</td>\n",
       "      <td>M</td>\n",
       "      <td>NaN</td>\n",
       "    </tr>\n",
       "    <tr>\n",
       "      <th>2</th>\n",
       "      <td>Red</td>\n",
       "      <td>M</td>\n",
       "      <td>Female</td>\n",
       "    </tr>\n",
       "    <tr>\n",
       "      <th>3</th>\n",
       "      <td>Yellow</td>\n",
       "      <td>NaN</td>\n",
       "      <td>Male</td>\n",
       "    </tr>\n",
       "  </tbody>\n",
       "</table>\n",
       "</div>"
      ],
      "text/plain": [
       "   Colour Size     Sex\n",
       "0    Blue    S  Female\n",
       "1   Green    M     NaN\n",
       "2     Red    M  Female\n",
       "3  Yellow  NaN    Male"
      ]
     },
     "execution_count": 26,
     "metadata": {},
     "output_type": "execute_result"
    }
   ],
   "source": [
    "#show all the rows and fill row with null values when there is no match\n",
    "# There is no sex info on green colour and there is no size info on yellow colour\n",
    "pd.merge(size,gender,how='outer')# how is a keyword"
   ]
  },
  {
   "cell_type": "markdown",
   "id": "3ae6c3de-e906-4f69-8e9b-5e4d9ce49be2",
   "metadata": {},
   "source": [
    "# left "
   ]
  },
  {
   "cell_type": "code",
   "execution_count": 28,
   "id": "417516c6-eb1a-4b0d-8db4-7ae669102da5",
   "metadata": {},
   "outputs": [
    {
     "data": {
      "text/html": [
       "<div>\n",
       "<style scoped>\n",
       "    .dataframe tbody tr th:only-of-type {\n",
       "        vertical-align: middle;\n",
       "    }\n",
       "\n",
       "    .dataframe tbody tr th {\n",
       "        vertical-align: top;\n",
       "    }\n",
       "\n",
       "    .dataframe thead th {\n",
       "        text-align: right;\n",
       "    }\n",
       "</style>\n",
       "<table border=\"1\" class=\"dataframe\">\n",
       "  <thead>\n",
       "    <tr style=\"text-align: right;\">\n",
       "      <th></th>\n",
       "      <th>Colour</th>\n",
       "      <th>Size</th>\n",
       "      <th>Sex</th>\n",
       "    </tr>\n",
       "  </thead>\n",
       "  <tbody>\n",
       "    <tr>\n",
       "      <th>0</th>\n",
       "      <td>Red</td>\n",
       "      <td>M</td>\n",
       "      <td>Female</td>\n",
       "    </tr>\n",
       "    <tr>\n",
       "      <th>1</th>\n",
       "      <td>Blue</td>\n",
       "      <td>S</td>\n",
       "      <td>Female</td>\n",
       "    </tr>\n",
       "    <tr>\n",
       "      <th>2</th>\n",
       "      <td>Green</td>\n",
       "      <td>M</td>\n",
       "      <td>NaN</td>\n",
       "    </tr>\n",
       "  </tbody>\n",
       "</table>\n",
       "</div>"
      ],
      "text/plain": [
       "  Colour Size     Sex\n",
       "0    Red    M  Female\n",
       "1   Blue    S  Female\n",
       "2  Green    M     NaN"
      ]
     },
     "execution_count": 28,
     "metadata": {},
     "output_type": "execute_result"
    }
   ],
   "source": [
    "# keep everything that is on the left dataframe which is df1 in this example\n",
    "# fill in sex info for rows that have matches with df2 and if there in none e.g. green\n",
    "pd.merge(size,gender,how='left')# how is a keyword"
   ]
  },
  {
   "cell_type": "markdown",
   "id": "4ed62df5-3d1c-4de3-9453-3e490e529abe",
   "metadata": {},
   "source": [
    "# right"
   ]
  },
  {
   "cell_type": "code",
   "execution_count": 29,
   "id": "d694c6ac-2f03-40ff-8ae6-1fe8845e3a8e",
   "metadata": {},
   "outputs": [
    {
     "data": {
      "text/html": [
       "<div>\n",
       "<style scoped>\n",
       "    .dataframe tbody tr th:only-of-type {\n",
       "        vertical-align: middle;\n",
       "    }\n",
       "\n",
       "    .dataframe tbody tr th {\n",
       "        vertical-align: top;\n",
       "    }\n",
       "\n",
       "    .dataframe thead th {\n",
       "        text-align: right;\n",
       "    }\n",
       "</style>\n",
       "<table border=\"1\" class=\"dataframe\">\n",
       "  <thead>\n",
       "    <tr style=\"text-align: right;\">\n",
       "      <th></th>\n",
       "      <th>Colour</th>\n",
       "      <th>Size</th>\n",
       "      <th>Sex</th>\n",
       "    </tr>\n",
       "  </thead>\n",
       "  <tbody>\n",
       "    <tr>\n",
       "      <th>0</th>\n",
       "      <td>Red</td>\n",
       "      <td>M</td>\n",
       "      <td>Female</td>\n",
       "    </tr>\n",
       "    <tr>\n",
       "      <th>1</th>\n",
       "      <td>Blue</td>\n",
       "      <td>S</td>\n",
       "      <td>Female</td>\n",
       "    </tr>\n",
       "    <tr>\n",
       "      <th>2</th>\n",
       "      <td>Yellow</td>\n",
       "      <td>NaN</td>\n",
       "      <td>Male</td>\n",
       "    </tr>\n",
       "  </tbody>\n",
       "</table>\n",
       "</div>"
      ],
      "text/plain": [
       "   Colour Size     Sex\n",
       "0     Red    M  Female\n",
       "1    Blue    S  Female\n",
       "2  Yellow  NaN    Male"
      ]
     },
     "execution_count": 29,
     "metadata": {},
     "output_type": "execute_result"
    }
   ],
   "source": [
    "# keep everything that is on the right dataframe which is df2 in this example\n",
    "# fill in size info for rows that have matches with df1 and if there in none e.g. yellow\n",
    "pd.merge(size,gender,how='right')# how is a keyword"
   ]
  }
 ],
 "metadata": {
  "kernelspec": {
   "display_name": "Python 3 (ipykernel)",
   "language": "python",
   "name": "python3"
  },
  "language_info": {
   "codemirror_mode": {
    "name": "ipython",
    "version": 3
   },
   "file_extension": ".py",
   "mimetype": "text/x-python",
   "name": "python",
   "nbconvert_exporter": "python",
   "pygments_lexer": "ipython3",
   "version": "3.12.4"
  }
 },
 "nbformat": 4,
 "nbformat_minor": 5
}
