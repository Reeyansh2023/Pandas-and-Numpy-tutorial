{
 "cells": [
  {
   "cell_type": "code",
   "execution_count": 19,
   "id": "de8c99e2-183b-40fa-a3b8-d38813f585ce",
   "metadata": {},
   "outputs": [],
   "source": [
    "import numpy as np"
   ]
  },
  {
   "cell_type": "markdown",
   "id": "bd79cd02-f5ad-4af6-8ef4-288d0816233f",
   "metadata": {},
   "source": [
    "# Create a 2X2 matrix"
   ]
  },
  {
   "cell_type": "code",
   "execution_count": 20,
   "id": "0f0267b0-7951-42db-90aa-c28c2783edd3",
   "metadata": {},
   "outputs": [
    {
     "name": "stdout",
     "output_type": "stream",
     "text": [
      "2X2 Matrix:\n",
      " [[1 3]\n",
      " [5 7]]\n"
     ]
    }
   ],
   "source": [
    "matrix1=np.array([[1,3],[5,7]])\n",
    "print(\"2X2 Matrix:\\n\",matrix1)"
   ]
  },
  {
   "cell_type": "markdown",
   "id": "48ec13de-6d5f-4b53-a599-c74c8c75fda1",
   "metadata": {},
   "source": [
    "# Create 3X3 matrix"
   ]
  },
  {
   "cell_type": "code",
   "execution_count": 21,
   "id": "da916edb-6f0e-4280-94bc-5359a734f457",
   "metadata": {},
   "outputs": [
    {
     "name": "stdout",
     "output_type": "stream",
     "text": [
      "\n",
      "3X3 Matrix:\n",
      " [[ 2  3  5]\n",
      " [ 7 14 21]\n",
      " [ 1  3  5]]\n"
     ]
    }
   ],
   "source": [
    "matrix2=np.array([[2,3,5],[7,14,21],[1,3,5]])\n",
    "print(\"\\n3X3 Matrix:\\n\",matrix2)"
   ]
  },
  {
   "cell_type": "markdown",
   "id": "2ec1ffb0-80dd-4c46-b6e5-e16dc7c5885c",
   "metadata": {},
   "source": [
    "# Sum of two matrix"
   ]
  },
  {
   "cell_type": "code",
   "execution_count": 22,
   "id": "76eff834-5988-460e-add3-a1c38d9197c3",
   "metadata": {},
   "outputs": [
    {
     "name": "stdout",
     "output_type": "stream",
     "text": [
      "[[ 2  3  5]\n",
      " [ 7 14 21]\n",
      " [ 1  3  5]]\n",
      "-----------------------\n",
      "[[ 2  3  5]\n",
      " [ 7 14 21]\n",
      " [ 1  3  5]]\n",
      "------------------------------\n",
      "[[ 4  6 10]\n",
      " [14 28 42]\n",
      " [ 2  6 10]]\n"
     ]
    }
   ],
   "source": [
    "a=np.array([[2,3,5],[7,14,21],[1,3,5]])\n",
    "print(a)\n",
    "print(\"-----------------------\")\n",
    "b=np.array([[2,3,5],[7,14,21],[1,3,5]])\n",
    "print(b)\n",
    "print(\"------------------------------\")\n",
    "c=a+b\n",
    "print(c)"
   ]
  },
  {
   "cell_type": "markdown",
   "id": "5c50c6c2-f30f-4dec-9367-1ac2584cda18",
   "metadata": {},
   "source": [
    "# multiplication -np.dot()"
   ]
  },
  {
   "cell_type": "markdown",
   "id": "3c380b5e-b618-4749-8b7b-7090e916142e",
   "metadata": {},
   "source": [
    "# 1mat col= 2mat row"
   ]
  },
  {
   "cell_type": "markdown",
   "id": "5840f341-a6c2-47d5-bbcc-c1d2830c659f",
   "metadata": {},
   "source": [
    "# 1 3         2  6\n",
    "# 5 7         4  8\n",
    "# 1X2+3X4\n",
    "# 1X6+3X8"
   ]
  },
  {
   "cell_type": "code",
   "execution_count": 23,
   "id": "2c0dbd0d-3326-46ca-82e9-9356bfacc657",
   "metadata": {},
   "outputs": [
    {
     "name": "stdout",
     "output_type": "stream",
     "text": [
      "[[1 3]\n",
      " [5 7]]\n",
      "------------------------\n",
      "[[2 6]\n",
      " [4 8]]\n",
      "----------------\n",
      "Matrix X Matrix2:\n",
      " [[14 30]\n",
      " [38 86]]\n"
     ]
    }
   ],
   "source": [
    "mat1=np.array([[1,3],[5,7]])\n",
    "print(mat1)\n",
    "print(\"------------------------\")\n",
    "mat2=np.array([[2,6],[4,8]])\n",
    "print(mat2)\n",
    "print(\"----------------\")\n",
    "# calculate the dot product of two matrics\n",
    "result=np.dot(mat1,mat2)\n",
    "print(\"Matrix X Matrix2:\\n\",result)"
   ]
  },
  {
   "cell_type": "markdown",
   "id": "0a274267-d603-432e-bf05-ed4a138204f8",
   "metadata": {},
   "source": [
    "# Transpose"
   ]
  },
  {
   "cell_type": "code",
   "execution_count": 24,
   "id": "d7b67a81-3e51-4bbc-9e32-7e983c3a094e",
   "metadata": {},
   "outputs": [
    {
     "name": "stdout",
     "output_type": "stream",
     "text": [
      "[[1 3 4]\n",
      " [5 7 9]]\n",
      "----------------------\n",
      "[[1 5]\n",
      " [3 7]\n",
      " [4 9]]\n"
     ]
    }
   ],
   "source": [
    "Matrix3=np.array([[1,3,4],[5,7,9]])\n",
    "print(Matrix3)\n",
    "print(\"----------------------\")\n",
    "# get transpose of matrix\n",
    "result=np.transpose(Matrix3)\n",
    "print(result)"
   ]
  },
  {
   "cell_type": "markdown",
   "id": "59fe77b0-4697-436d-82b5-e447379c2024",
   "metadata": {},
   "source": [
    "# hstack-concat hori"
   ]
  },
  {
   "cell_type": "code",
   "execution_count": 25,
   "id": "ffff3aa1-cf3b-43b2-974c-944a1912c53b",
   "metadata": {},
   "outputs": [
    {
     "name": "stdout",
     "output_type": "stream",
     "text": [
      "[3 5 7]\n",
      "-------------------\n",
      "[5 7 9]\n",
      "-----------------------\n",
      "[3 5 7 5 7 9]\n"
     ]
    }
   ],
   "source": [
    "x=np.array((3,5,7))\n",
    "print(x)\n",
    "print(\"-------------------\")\n",
    "y=np.array((5,7,9))\n",
    "print(y)\n",
    "print(\"-----------------------\")\n",
    "print(np.hstack((x,y)))"
   ]
  },
  {
   "cell_type": "code",
   "execution_count": 26,
   "id": "efe0a745-b295-4109-a5a7-2bd24add7d1c",
   "metadata": {},
   "outputs": [
    {
     "name": "stdout",
     "output_type": "stream",
     "text": [
      "[[3]\n",
      " [5]\n",
      " [7]]\n",
      "-----------------------\n",
      "[[5]\n",
      " [7]\n",
      " [9]]\n",
      "-------------------------\n",
      "[[3 5]\n",
      " [5 7]\n",
      " [7 9]]\n"
     ]
    }
   ],
   "source": [
    "x2=np.array([[3],[5],[7]])\n",
    "print(x2)\n",
    "print(\"-----------------------\")\n",
    "y2=np.array([[5],[7],[9]])\n",
    "print(y2)\n",
    "print(\"-------------------------\")\n",
    "print(np.hstack((x2,y2)))"
   ]
  },
  {
   "cell_type": "markdown",
   "id": "227cc1d4-6d5e-44f9-94cd-c310bcac8604",
   "metadata": {},
   "source": [
    "# Vstack-concat ver"
   ]
  },
  {
   "cell_type": "code",
   "execution_count": 27,
   "id": "5684872e-8ec6-48ac-9f0f-dceb562cda35",
   "metadata": {},
   "outputs": [
    {
     "name": "stdout",
     "output_type": "stream",
     "text": [
      "[3 5 7]\n",
      "-------------------\n",
      "[5 7 9]\n",
      "-----------------------\n",
      "[[3 5 7]\n",
      " [5 7 9]]\n"
     ]
    }
   ],
   "source": [
    "x1=np.array([3,5,7])\n",
    "print(x1)\n",
    "print(\"-------------------\")\n",
    "y1=np.array([5,7,9])\n",
    "print(y1)\n",
    "print(\"-----------------------\")\n",
    "print(np.vstack((x1,y1)))"
   ]
  },
  {
   "cell_type": "code",
   "execution_count": 28,
   "id": "eea83d44-dc3e-4a17-8bae-1c960e7ca601",
   "metadata": {},
   "outputs": [
    {
     "name": "stdout",
     "output_type": "stream",
     "text": [
      "[[3]\n",
      " [5]\n",
      " [7]]\n",
      "-----------------------\n",
      "[[5]\n",
      " [7]\n",
      " [9]]\n",
      "-------------------------\n",
      "[[3]\n",
      " [5]\n",
      " [7]\n",
      " [5]\n",
      " [7]\n",
      " [9]]\n"
     ]
    }
   ],
   "source": [
    "x3=np.array([[3],[5],[7]])\n",
    "print(x3)\n",
    "print(\"-----------------------\")\n",
    "y3=np.array([[5],[7],[9]])\n",
    "print(y3)\n",
    "print(\"-------------------------\")\n",
    "print(np.vstack((x3,y3)))"
   ]
  },
  {
   "cell_type": "markdown",
   "id": "7b37882f-407e-4f91-9e9d-99907efcd35d",
   "metadata": {},
   "source": [
    "# Generate Random Number\n",
    "# np.random.randint"
   ]
  },
  {
   "cell_type": "code",
   "execution_count": 31,
   "id": "73c518be-52c3-43e8-94fb-32c57219a19c",
   "metadata": {},
   "outputs": [],
   "source": [
    "random_number=np.random.randint(0,10)\n"
   ]
  },
  {
   "cell_type": "code",
   "execution_count": 32,
   "id": "a63c23b8-7e2a-415b-85c2-6e594d3fdfbc",
   "metadata": {},
   "outputs": [
    {
     "name": "stdout",
     "output_type": "stream",
     "text": [
      "4\n"
     ]
    }
   ],
   "source": [
    "print(random_number)"
   ]
  },
  {
   "cell_type": "code",
   "execution_count": 33,
   "id": "a8875ea9-1a44-4e3f-856a-de63cb003076",
   "metadata": {},
   "outputs": [],
   "source": [
    "from numpy import random"
   ]
  },
  {
   "cell_type": "code",
   "execution_count": 35,
   "id": "853d4423-1917-4559-9b37-039e15b88cde",
   "metadata": {},
   "outputs": [
    {
     "name": "stdout",
     "output_type": "stream",
     "text": [
      "2\n"
     ]
    }
   ],
   "source": [
    "random_number1=random.randint(0,10)\n",
    "print(random_number1)"
   ]
  },
  {
   "cell_type": "code",
   "execution_count": 38,
   "id": "b2618dc7-769d-438b-b3c6-b8071bd378f4",
   "metadata": {},
   "outputs": [
    {
     "name": "stdout",
     "output_type": "stream",
     "text": [
      "0.22545549876140958\n"
     ]
    }
   ],
   "source": [
    "random_number2=np.random.rand()\n",
    "print(random_number2)"
   ]
  },
  {
   "cell_type": "markdown",
   "id": "e56e9210-fd2c-496c-93b2-09fb6833d5df",
   "metadata": {},
   "source": [
    "# generate 1D array of 5 random integers between 0 to 9"
   ]
  },
  {
   "cell_type": "code",
   "execution_count": 39,
   "id": "fd60bab9-5e4e-4989-969d-5599f77a5398",
   "metadata": {},
   "outputs": [
    {
     "name": "stdout",
     "output_type": "stream",
     "text": [
      "1D Random Integer Array:\n",
      " [7 7 9 0 4]\n"
     ]
    }
   ],
   "source": [
    "integer_array=np.random.randint(0,10,5)\n",
    "print(\"1D Random Integer Array:\\n\",integer_array)"
   ]
  },
  {
   "cell_type": "markdown",
   "id": "c0020309-d797-4577-93d7-396933ff5edd",
   "metadata": {},
   "source": [
    "# generate 1D array of 5 random float between 0 to 1"
   ]
  },
  {
   "cell_type": "code",
   "execution_count": 40,
   "id": "4c90d279-afc5-48ff-a787-f92977fdbdd3",
   "metadata": {},
   "outputs": [
    {
     "name": "stdout",
     "output_type": "stream",
     "text": [
      "1D Random float Array:\n",
      " 0.36234948791544497\n"
     ]
    }
   ],
   "source": [
    "float_array=np.random.rand()\n",
    "print(\"1D Random float Array:\\n\",float_array)"
   ]
  },
  {
   "cell_type": "markdown",
   "id": "b8a104da-b9a2-4330-8b3f-e69d679e7f51",
   "metadata": {},
   "source": [
    "# generate 2D  array of shape(3,4) with  random integers"
   ]
  },
  {
   "cell_type": "code",
   "execution_count": 41,
   "id": "30c3d675-c963-4c03-8d52-7021310d5a7e",
   "metadata": {},
   "outputs": [
    {
     "name": "stdout",
     "output_type": "stream",
     "text": [
      "2D Random Integer Array:\n",
      " [[5 7 0 8]\n",
      " [3 0 4 8]\n",
      " [4 1 5 1]]\n"
     ]
    }
   ],
   "source": [
    "result=np.random.randint(0,10,(3,4))\n",
    "print(\"2D Random Integer Array:\\n\",result)"
   ]
  },
  {
   "cell_type": "markdown",
   "id": "411c6f64-b127-4a22-83a1-b6684b28c517",
   "metadata": {},
   "source": [
    "# create an array of integers from 1 to 5"
   ]
  },
  {
   "cell_type": "markdown",
   "id": "db5d12d8-2f60-4b13-a1ea-f3c69fc8c32f",
   "metadata": {},
   "source": [
    "## choose a random num from array"
   ]
  },
  {
   "cell_type": "code",
   "execution_count": 42,
   "id": "0ea76e7c-9715-49c9-ba5e-9c6eef01de5a",
   "metadata": {},
   "outputs": [
    {
     "name": "stdout",
     "output_type": "stream",
     "text": [
      "[1 2 3 4 5]\n",
      "--------------------\n",
      "2\n"
     ]
    }
   ],
   "source": [
    "array=np.array([1,2,3,4,5])\n",
    "print(array)\n",
    "print(\"--------------------\")\n",
    "random_choice=np.random.choice(array)\n",
    "print(random_choice)"
   ]
  }
 ],
 "metadata": {
  "kernelspec": {
   "display_name": "Python 3 (ipykernel)",
   "language": "python",
   "name": "python3"
  },
  "language_info": {
   "codemirror_mode": {
    "name": "ipython",
    "version": 3
   },
   "file_extension": ".py",
   "mimetype": "text/x-python",
   "name": "python",
   "nbconvert_exporter": "python",
   "pygments_lexer": "ipython3",
   "version": "3.12.4"
  }
 },
 "nbformat": 4,
 "nbformat_minor": 5
}
