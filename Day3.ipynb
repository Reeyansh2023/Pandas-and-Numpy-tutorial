{
 "cells": [
  {
   "cell_type": "code",
   "execution_count": 70,
   "id": "419d47dd-534a-472b-93f7-98ee8614e204",
   "metadata": {},
   "outputs": [],
   "source": [
    "import numpy as np"
   ]
  },
  {
   "cell_type": "markdown",
   "id": "dd4e247f-8432-4379-8dfa-cd9d9d2dae19",
   "metadata": {},
   "source": [
    "# list VS Array"
   ]
  },
  {
   "cell_type": "markdown",
   "id": "91e91541-52d8-4a94-98a9-c5002695dd4d",
   "metadata": {},
   "source": [
    "#### 3 benifit of array\n",
    "#### -Takes less memory\n",
    "#### -fast\n",
    "####  -convininent"
   ]
  },
  {
   "cell_type": "markdown",
   "id": "e4f1992a-5c08-4355-84bb-6d7b92f235b8",
   "metadata": {},
   "source": [
    "# -Takes less memory\n"
   ]
  },
  {
   "cell_type": "code",
   "execution_count": 71,
   "id": "f6567d77-fbd9-4bb0-9575-97b7aec9dc2a",
   "metadata": {},
   "outputs": [],
   "source": [
    "import time\n",
    "import sys"
   ]
  },
  {
   "cell_type": "code",
   "execution_count": 72,
   "id": "26baf459-309f-4d27-a2d0-da8dc8f2a6ad",
   "metadata": {},
   "outputs": [
    {
     "data": {
      "text/plain": [
       "28"
      ]
     },
     "execution_count": 72,
     "metadata": {},
     "output_type": "execute_result"
    }
   ],
   "source": [
    "sys.getsizeof(1000)"
   ]
  },
  {
   "cell_type": "code",
   "execution_count": 73,
   "id": "884c24d0-a40c-44bd-89d7-4d09ae63ac9a",
   "metadata": {},
   "outputs": [
    {
     "name": "stdout",
     "output_type": "stream",
     "text": [
      "5600000\n"
     ]
    }
   ],
   "source": [
    "l=range(200000)\n",
    "print(sys.getsizeof(2)*len(l))"
   ]
  },
  {
   "cell_type": "code",
   "execution_count": 74,
   "id": "366b17fa-8ed8-4e5a-8020-f5599196344e",
   "metadata": {},
   "outputs": [
    {
     "data": {
      "text/plain": [
       "4"
      ]
     },
     "execution_count": 74,
     "metadata": {},
     "output_type": "execute_result"
    }
   ],
   "source": [
    "a=np.arange(200000)\n",
    "a.itemsize"
   ]
  },
  {
   "cell_type": "code",
   "execution_count": 75,
   "id": "88a064da-8e11-4c8d-836d-d24a3968dbb7",
   "metadata": {},
   "outputs": [
    {
     "name": "stdout",
     "output_type": "stream",
     "text": [
      "800000\n"
     ]
    }
   ],
   "source": [
    "a=np.arange(200000)\n",
    "print(a.itemsize*len(a))"
   ]
  },
  {
   "cell_type": "markdown",
   "id": "e29ba79e-23fa-4ab8-a735-6250311af90e",
   "metadata": {},
   "source": [
    "# Fast"
   ]
  },
  {
   "cell_type": "code",
   "execution_count": 76,
   "id": "2ee1fc5b-934b-4736-82d4-f23ff83eb6e4",
   "metadata": {},
   "outputs": [
    {
     "name": "stdout",
     "output_type": "stream",
     "text": [
      "time taken: 193.94946098327637\n"
     ]
    }
   ],
   "source": [
    "a1=range(1000000)\n",
    "b1=range(1000000)\n",
    "start=time.time()#start\n",
    "c1=[(x+y) for x,y in zip(a1,b1)]\n",
    "print(\"time taken:\",(time.time()-start)*1000)"
   ]
  },
  {
   "cell_type": "code",
   "execution_count": 77,
   "id": "74046308-3804-4734-933b-dc9bd315ca95",
   "metadata": {},
   "outputs": [
    {
     "name": "stdout",
     "output_type": "stream",
     "text": [
      "time taken: 3.7724971771240234\n"
     ]
    }
   ],
   "source": [
    "a2=np.arange(1000000)\n",
    "b2=np.arange(1000000)\n",
    "start=time.time()#start\n",
    "c2=a2+b2\n",
    "print(\"time taken:\",(time.time()-start)*1000)"
   ]
  },
  {
   "cell_type": "code",
   "execution_count": 78,
   "id": "e0bfc814-7bf0-4f55-a8ef-e5c70cde009d",
   "metadata": {},
   "outputs": [
    {
     "data": {
      "text/plain": [
       "1733902013.7497692"
      ]
     },
     "execution_count": 78,
     "metadata": {},
     "output_type": "execute_result"
    }
   ],
   "source": [
    "start=time.time()#start\n",
    "start"
   ]
  },
  {
   "cell_type": "markdown",
   "id": "dff4de46-ff3c-49a4-8a0a-9017ad4b1653",
   "metadata": {},
   "source": [
    "# convininent"
   ]
  },
  {
   "cell_type": "code",
   "execution_count": 79,
   "id": "ca402aaf-8052-44ca-9aae-7c9b12ebbcb4",
   "metadata": {},
   "outputs": [
    {
     "name": "stdout",
     "output_type": "stream",
     "text": [
      "1 4 9 16 25 36 49 64 81 100 121 144 169 196 225 256 289 324 361 400 441 484 529 576 625 676 729 784 841 900 961 1024 1089 1156 1225 1296 1369 1444 1521 1600 1681 1764 1849 1936 2025 2116 2209 2304 2401 2500 2601 2704 2809 2916 3025 3136 3249 3364 3481 3600 3721 3844 3969 4096 4225 4356 4489 4624 4761 4900 5041 5184 5329 5476 5625 5776 5929 6084 6241 6400 6561 6724 6889 7056 7225 7396 7569 7744 7921 8100 8281 8464 8649 8836 9025 9216 9409 9604 9801 "
     ]
    }
   ],
   "source": [
    "for i in range(1,100):\n",
    "    print(i*i,end=\" \")"
   ]
  },
  {
   "cell_type": "code",
   "execution_count": 80,
   "id": "2b3b9bf3-5dfe-456a-b2e7-64c3acc65248",
   "metadata": {},
   "outputs": [
    {
     "data": {
      "text/plain": [
       "array([   0,    1,    4,    9,   16,   25,   36,   49,   64,   81,  100,\n",
       "        121,  144,  169,  196,  225,  256,  289,  324,  361,  400,  441,\n",
       "        484,  529,  576,  625,  676,  729,  784,  841,  900,  961, 1024,\n",
       "       1089, 1156, 1225, 1296, 1369, 1444, 1521, 1600, 1681, 1764, 1849,\n",
       "       1936, 2025, 2116, 2209, 2304, 2401, 2500, 2601, 2704, 2809, 2916,\n",
       "       3025, 3136, 3249, 3364, 3481, 3600, 3721, 3844, 3969, 4096, 4225,\n",
       "       4356, 4489, 4624, 4761, 4900, 5041, 5184, 5329, 5476, 5625, 5776,\n",
       "       5929, 6084, 6241, 6400, 6561, 6724, 6889, 7056, 7225, 7396, 7569,\n",
       "       7744, 7921, 8100, 8281, 8464, 8649, 8836, 9025, 9216, 9409, 9604,\n",
       "       9801])"
      ]
     },
     "execution_count": 80,
     "metadata": {},
     "output_type": "execute_result"
    }
   ],
   "source": [
    "n1=np.arange(100)\n",
    "n2=np.arange(100)\n",
    "n3=n1*n2\n",
    "n3"
   ]
  },
  {
   "cell_type": "markdown",
   "id": "440d2796-f9d8-4be6-83ee-8b8a450e0773",
   "metadata": {},
   "source": [
    "# Shallow Copy"
   ]
  },
  {
   "cell_type": "code",
   "execution_count": 81,
   "id": "adde8a05-6b25-466d-a5a7-e22c398a410b",
   "metadata": {},
   "outputs": [
    {
     "data": {
      "text/plain": [
       "[1, '2', 3, 4, 5]"
      ]
     },
     "execution_count": 81,
     "metadata": {},
     "output_type": "execute_result"
    }
   ],
   "source": [
    "l=[1,\"2\",3,4,5]\n",
    "l1=l\n",
    "l1"
   ]
  },
  {
   "cell_type": "code",
   "execution_count": 82,
   "id": "24da45aa-e3c0-42f9-8144-10bcaa07df00",
   "metadata": {},
   "outputs": [
    {
     "data": {
      "text/plain": [
       "[[1, 2, 3], [4, 5]]"
      ]
     },
     "execution_count": 82,
     "metadata": {},
     "output_type": "execute_result"
    }
   ],
   "source": [
    "l=[[1,2,3],[4,5]]\n",
    "l"
   ]
  },
  {
   "cell_type": "code",
   "execution_count": 83,
   "id": "60a1ae92-0db8-4fb4-a210-ab5f1fc66caa",
   "metadata": {},
   "outputs": [
    {
     "data": {
      "text/plain": [
       "[[1, 2, 3], [4, 5]]"
      ]
     },
     "execution_count": 83,
     "metadata": {},
     "output_type": "execute_result"
    }
   ],
   "source": [
    "l2=l.copy()\n",
    "l2"
   ]
  },
  {
   "cell_type": "code",
   "execution_count": 84,
   "id": "b91cc70f-302b-4441-9c42-7495535ecdb9",
   "metadata": {},
   "outputs": [
    {
     "data": {
      "text/plain": [
       "[[1, 2, 100], [4, 5]]"
      ]
     },
     "execution_count": 84,
     "metadata": {},
     "output_type": "execute_result"
    }
   ],
   "source": [
    "l2[0][2]=100\n",
    "l2"
   ]
  },
  {
   "cell_type": "code",
   "execution_count": 85,
   "id": "01be351b-d29e-4ca6-8f5f-9d3a25c963d3",
   "metadata": {},
   "outputs": [
    {
     "data": {
      "text/plain": [
       "[[1, 2, 100], [4, 5]]"
      ]
     },
     "execution_count": 85,
     "metadata": {},
     "output_type": "execute_result"
    }
   ],
   "source": [
    "l"
   ]
  },
  {
   "cell_type": "markdown",
   "id": "5ed7da05-301e-4140-90ea-e79305fae93f",
   "metadata": {},
   "source": [
    "# Shallow copy fail for neated list then we use deep copy"
   ]
  },
  {
   "cell_type": "code",
   "execution_count": 86,
   "id": "ba99219d-f2cc-4e53-b996-51623e17ff66",
   "metadata": {},
   "outputs": [
    {
     "name": "stdout",
     "output_type": "stream",
     "text": [
      "2243036192384\n",
      "2243084503232 None\n"
     ]
    }
   ],
   "source": [
    "print(id(l),print(id(l2)))"
   ]
  },
  {
   "cell_type": "code",
   "execution_count": 87,
   "id": "cdad2332-44ab-4c0b-b28c-c4fbe5d3beb9",
   "metadata": {},
   "outputs": [
    {
     "data": {
      "text/plain": [
       "[[1, 2, 4], [5, 6, 7]]"
      ]
     },
     "execution_count": 87,
     "metadata": {},
     "output_type": "execute_result"
    }
   ],
   "source": [
    "l=[[1,2,4],[5,6,7]]\n",
    "l"
   ]
  },
  {
   "cell_type": "code",
   "execution_count": 88,
   "id": "cddccbf6-d707-450d-80bc-c501beef5f47",
   "metadata": {},
   "outputs": [
    {
     "data": {
      "text/plain": [
       "[[1, 2, 4], [5, 6, 7]]"
      ]
     },
     "execution_count": 88,
     "metadata": {},
     "output_type": "execute_result"
    }
   ],
   "source": [
    "\n",
    "l2=copy.deepcopy(l)\n",
    "l2"
   ]
  },
  {
   "cell_type": "code",
   "execution_count": 89,
   "id": "8f8d54b5-6d76-46c3-a361-0ddba6d4a600",
   "metadata": {},
   "outputs": [
    {
     "data": {
      "text/plain": [
       "[[1, 2, 100], [5, 6, 7]]"
      ]
     },
     "execution_count": 89,
     "metadata": {},
     "output_type": "execute_result"
    }
   ],
   "source": [
    "l2[0][2]=100\n",
    "l2"
   ]
  },
  {
   "cell_type": "code",
   "execution_count": 90,
   "id": "2f7778f1-aec7-42ae-9744-c4e1d777c706",
   "metadata": {},
   "outputs": [
    {
     "data": {
      "text/plain": [
       "[[1, 2, 4], [5, 6, 7]]"
      ]
     },
     "execution_count": 90,
     "metadata": {},
     "output_type": "execute_result"
    }
   ],
   "source": [
    "l"
   ]
  },
  {
   "cell_type": "code",
   "execution_count": 91,
   "id": "4ebb8c58-8275-4d6e-a94b-a93332ef6a4b",
   "metadata": {},
   "outputs": [
    {
     "name": "stdout",
     "output_type": "stream",
     "text": [
      "2243093707776 2243085080064\n"
     ]
    }
   ],
   "source": [
    "print(id(l2),id(l))"
   ]
  },
  {
   "cell_type": "code",
   "execution_count": 92,
   "id": "00d0d530-1d89-429d-9ce3-b248074852a8",
   "metadata": {},
   "outputs": [
    {
     "data": {
      "text/plain": [
       "2243085048704"
      ]
     },
     "execution_count": 92,
     "metadata": {},
     "output_type": "execute_result"
    }
   ],
   "source": [
    "id(l[0])"
   ]
  },
  {
   "cell_type": "code",
   "execution_count": 93,
   "id": "72b3b2f7-5541-4d95-8322-b45191056c09",
   "metadata": {},
   "outputs": [
    {
     "data": {
      "text/plain": [
       "2243085051520"
      ]
     },
     "execution_count": 93,
     "metadata": {},
     "output_type": "execute_result"
    }
   ],
   "source": [
    "id(l[1])"
   ]
  },
  {
   "cell_type": "markdown",
   "id": "89d3ca95-311d-4fc7-b9cd-16f1032bf76d",
   "metadata": {},
   "source": [
    "# conditional Selection"
   ]
  },
  {
   "cell_type": "code",
   "execution_count": 94,
   "id": "e5ca9650-68d2-48cb-8576-dbf474b69d2e",
   "metadata": {},
   "outputs": [
    {
     "name": "stdout",
     "output_type": "stream",
     "text": [
      "[ 1  2  3  4  5  6  7  8  9 10 11 12 13 14 15 16 17 18 19 20]\n"
     ]
    }
   ],
   "source": [
    "a=np.arange(1,21)\n",
    "print(a)"
   ]
  },
  {
   "cell_type": "code",
   "execution_count": 95,
   "id": "289e99e0-78d5-4225-9b63-60f0560f88f0",
   "metadata": {},
   "outputs": [
    {
     "data": {
      "text/plain": [
       "array([False, False, False, False, False, False, False, False, False,\n",
       "       False,  True,  True,  True,  True,  True,  True,  True,  True,\n",
       "        True,  True])"
      ]
     },
     "execution_count": 95,
     "metadata": {},
     "output_type": "execute_result"
    }
   ],
   "source": [
    "a>10"
   ]
  },
  {
   "cell_type": "code",
   "execution_count": 96,
   "id": "138acf02-f74f-4c90-8e0c-25bba9b6b964",
   "metadata": {},
   "outputs": [
    {
     "data": {
      "text/plain": [
       "array([11, 12, 13, 14, 15, 16, 17, 18, 19, 20])"
      ]
     },
     "execution_count": 96,
     "metadata": {},
     "output_type": "execute_result"
    }
   ],
   "source": [
    "a[a>10]"
   ]
  },
  {
   "cell_type": "code",
   "execution_count": 97,
   "id": "584d8861-ab64-490f-b3ae-c2c568b01a55",
   "metadata": {},
   "outputs": [
    {
     "data": {
      "text/plain": [
       "array([1, 2, 3, 4, 5, 6, 7, 8, 9])"
      ]
     },
     "execution_count": 97,
     "metadata": {},
     "output_type": "execute_result"
    }
   ],
   "source": [
    "a[a<10]"
   ]
  },
  {
   "cell_type": "code",
   "execution_count": 98,
   "id": "8436b11c-db2d-469b-9aef-df1b88839014",
   "metadata": {},
   "outputs": [
    {
     "data": {
      "text/plain": [
       "array([ 2,  4,  6,  8, 10, 12, 14, 16, 18, 20])"
      ]
     },
     "execution_count": 98,
     "metadata": {},
     "output_type": "execute_result"
    }
   ],
   "source": [
    "a[a%2==0]"
   ]
  },
  {
   "cell_type": "code",
   "execution_count": 99,
   "id": "9df7780e-7039-4e66-84dc-881913bfbcc5",
   "metadata": {},
   "outputs": [
    {
     "data": {
      "text/plain": [
       "array([ 1,  3,  5,  7,  9, 11, 13, 15, 17, 19])"
      ]
     },
     "execution_count": 99,
     "metadata": {},
     "output_type": "execute_result"
    }
   ],
   "source": [
    "a[a%2!=0]"
   ]
  },
  {
   "cell_type": "code",
   "execution_count": 100,
   "id": "a5119af3-45bd-47e3-9aa0-7a2fc45ee571",
   "metadata": {},
   "outputs": [
    {
     "data": {
      "text/plain": [
       "array([5])"
      ]
     },
     "execution_count": 100,
     "metadata": {},
     "output_type": "execute_result"
    }
   ],
   "source": [
    "a[a==5]"
   ]
  },
  {
   "cell_type": "code",
   "execution_count": 101,
   "id": "98ae5688-68a6-4fc5-90f8-38390fed5b39",
   "metadata": {},
   "outputs": [],
   "source": [
    "a[a%2 !=0]=0"
   ]
  },
  {
   "cell_type": "code",
   "execution_count": 102,
   "id": "58c8469a-e739-4e90-926b-336a7e0ca578",
   "metadata": {},
   "outputs": [
    {
     "data": {
      "text/plain": [
       "array([ 0,  2,  0,  4,  0,  6,  0,  8,  0, 10,  0, 12,  0, 14,  0, 16,  0,\n",
       "       18,  0, 20])"
      ]
     },
     "execution_count": 102,
     "metadata": {},
     "output_type": "execute_result"
    }
   ],
   "source": [
    "a"
   ]
  },
  {
   "cell_type": "markdown",
   "id": "3e67300b-5c5c-43c0-afe4-f06702f2fc5d",
   "metadata": {},
   "source": [
    "# Where condition"
   ]
  },
  {
   "cell_type": "code",
   "execution_count": 103,
   "id": "c674a818-72a4-4c53-a99f-5b4f5e05a48d",
   "metadata": {},
   "outputs": [
    {
     "name": "stdout",
     "output_type": "stream",
     "text": [
      "[1 2 3 4 5 2]\n"
     ]
    }
   ],
   "source": [
    "a=np.array([1,2,3,4,5,2])\n",
    "print(a)"
   ]
  },
  {
   "cell_type": "code",
   "execution_count": 104,
   "id": "4263f261-09d1-44ed-91ea-d25b8b497254",
   "metadata": {},
   "outputs": [
    {
     "data": {
      "text/plain": [
       "1"
      ]
     },
     "execution_count": 104,
     "metadata": {},
     "output_type": "execute_result"
    }
   ],
   "source": [
    "a.ndim"
   ]
  },
  {
   "cell_type": "code",
   "execution_count": 105,
   "id": "9c302408-d57a-4f95-9728-01105b9ce822",
   "metadata": {},
   "outputs": [
    {
     "data": {
      "text/plain": [
       "(6,)"
      ]
     },
     "execution_count": 105,
     "metadata": {},
     "output_type": "execute_result"
    }
   ],
   "source": [
    "a.shape"
   ]
  },
  {
   "cell_type": "code",
   "execution_count": 106,
   "id": "493c5fce-92bd-40b4-a8fb-c0dfdbf08924",
   "metadata": {},
   "outputs": [
    {
     "data": {
      "text/plain": [
       "(array([1, 5], dtype=int64),)"
      ]
     },
     "execution_count": 106,
     "metadata": {},
     "output_type": "execute_result"
    }
   ],
   "source": [
    "x=np.where(a==2)\n",
    "x"
   ]
  },
  {
   "cell_type": "code",
   "execution_count": 107,
   "id": "e7cf58da-a26b-49dc-b102-4af9e7851326",
   "metadata": {},
   "outputs": [
    {
     "data": {
      "text/plain": [
       "(array([2], dtype=int64),)"
      ]
     },
     "execution_count": 107,
     "metadata": {},
     "output_type": "execute_result"
    }
   ],
   "source": [
    "np.where(a==3)"
   ]
  },
  {
   "cell_type": "code",
   "execution_count": 108,
   "id": "1c11729e-4b95-403d-9239-df72bc7f3524",
   "metadata": {},
   "outputs": [
    {
     "name": "stdout",
     "output_type": "stream",
     "text": [
      "[1 2 3 4 5 6]\n"
     ]
    }
   ],
   "source": [
    "b=np.array([1,2,3,4,5,6])\n",
    "print(b)\n"
   ]
  },
  {
   "cell_type": "code",
   "execution_count": 110,
   "id": "32ea07de-8d8a-474d-aabf-c2d82c08e215",
   "metadata": {},
   "outputs": [
    {
     "data": {
      "text/plain": [
       "(array([0, 1, 2], dtype=int64),)"
      ]
     },
     "execution_count": 110,
     "metadata": {},
     "output_type": "execute_result"
    }
   ],
   "source": [
    "np.where(b<4)"
   ]
  },
  {
   "cell_type": "code",
   "execution_count": 111,
   "id": "19194b5e-3c1d-4892-b8fc-90da24d601d2",
   "metadata": {},
   "outputs": [
    {
     "data": {
      "text/plain": [
       "(array([5], dtype=int64),)"
      ]
     },
     "execution_count": 111,
     "metadata": {},
     "output_type": "execute_result"
    }
   ],
   "source": [
    "np.where(b>5)"
   ]
  },
  {
   "cell_type": "markdown",
   "id": "076b2072-a389-40ae-a5e5-8d25325d5fa7",
   "metadata": {},
   "source": [
    "# Search sorted\n"
   ]
  },
  {
   "cell_type": "code",
   "execution_count": 112,
   "id": "35e43a90-4b97-4520-9eeb-27566c5ec969",
   "metadata": {},
   "outputs": [
    {
     "data": {
      "text/plain": [
       "array([ 1,  2,  3,  4, 10, 11, 15])"
      ]
     },
     "execution_count": 112,
     "metadata": {},
     "output_type": "execute_result"
    }
   ],
   "source": [
    "x=np.array([1,2,3,4,10,11,15])\n",
    "x"
   ]
  },
  {
   "cell_type": "code",
   "execution_count": 113,
   "id": "dc687524-bb3d-442c-af10-ff16ac998b4d",
   "metadata": {},
   "outputs": [
    {
     "data": {
      "text/plain": [
       "4"
      ]
     },
     "execution_count": 113,
     "metadata": {},
     "output_type": "execute_result"
    }
   ],
   "source": [
    "np.searchsorted(x,8)"
   ]
  },
  {
   "cell_type": "code",
   "execution_count": 114,
   "id": "2465ad76-13b7-4e72-9de1-89e8a4b51f68",
   "metadata": {},
   "outputs": [
    {
     "data": {
      "text/plain": [
       "6"
      ]
     },
     "execution_count": 114,
     "metadata": {},
     "output_type": "execute_result"
    }
   ],
   "source": [
    "np.searchsorted(x,12)"
   ]
  }
 ],
 "metadata": {
  "kernelspec": {
   "display_name": "Python 3 (ipykernel)",
   "language": "python",
   "name": "python3"
  },
  "language_info": {
   "codemirror_mode": {
    "name": "ipython",
    "version": 3
   },
   "file_extension": ".py",
   "mimetype": "text/x-python",
   "name": "python",
   "nbconvert_exporter": "python",
   "pygments_lexer": "ipython3",
   "version": "3.12.4"
  }
 },
 "nbformat": 4,
 "nbformat_minor": 5
}
